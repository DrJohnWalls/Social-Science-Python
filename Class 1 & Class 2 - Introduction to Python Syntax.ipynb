{
 "cells": [
  {
   "cell_type": "code",
   "execution_count": null,
   "metadata": {
    "collapsed": false
   },
   "outputs": [],
   "source": [
    "# CLASS 1 + CLASS 2: Introduction to Python Syntax"
   ]
  },
  {
   "cell_type": "code",
   "execution_count": null,
   "metadata": {
    "collapsed": true
   },
   "outputs": [],
   "source": [
    "# Text following a \"#\" are comments, and have no impact on the functioning\n",
    "# of the program. They are for human use only.\n",
    "\n",
    "# The Most Basic Function:\n",
    "print(\"Hello World\")\n",
    "# The print() function displays text on the screen"
   ]
  },
  {
   "cell_type": "code",
   "execution_count": null,
   "metadata": {
    "collapsed": true
   },
   "outputs": [],
   "source": [
    "# A VARIABLE - Storing data for later\n",
    "\n",
    "# my_new_variable was just now created. It stores whatever is to the RIGHT of the equals sign.\n",
    "# Thus in this case, it stores \"Some important content\". You can print\n",
    "# variables exactly the same as printing strings.\n",
    "my_new_variable = \"Some important content\"\n",
    "print(my_new_variable)"
   ]
  },
  {
   "cell_type": "code",
   "execution_count": null,
   "metadata": {
    "collapsed": false
   },
   "outputs": [],
   "source": [
    "# The Four Basic Objects of Python - String, Integer, Float, Boolean\n",
    "\n",
    "# A STRING object is just raw text surrounded in either single or double quotes. \n",
    "# It can contain any typed character from your keyboard\n",
    "my_string = \"Bunny\"\n",
    "print(my_string)\n",
    "\n",
    "# An INTEGER object is a representation of an integer value (positive or negative).\n",
    "# Mathematical functions can be applied (see below)\n",
    "my_integer = 9\n",
    "print(my_integer)\n",
    "\n",
    "# A FLOAT object is just a decimal number. Python can convert back and forth between\n",
    "# FLOAT and INTEGER effortlessly.\n",
    "my_float = 9.5\n",
    "print(my_float)\n",
    "\n",
    "# A BOOLEAN object is just a representation of TRUE or FALSE. This can be useful when\n",
    "# you need to determine the status of some piece of data (again, see below)\n",
    "# Boolean's are just represented as the word True or False (capitalized)\n",
    "my_boolean = True\n",
    "print(my_boolean)"
   ]
  },
  {
   "cell_type": "code",
   "execution_count": null,
   "metadata": {
    "collapsed": false
   },
   "outputs": [],
   "source": [
    "# You can also \"concatenate\" strings and/or variables storing strings together\n",
    "print(\"Hello, World. Did you know that one of my variables is named \" + my_string)"
   ]
  },
  {
   "cell_type": "code",
   "execution_count": null,
   "metadata": {
    "collapsed": true
   },
   "outputs": [],
   "source": [
    "# In Python, you always have the choice between using (a) the ACTUAL VALUE or (b) a variable STORING that value\n",
    "# For example:\n",
    "\n",
    "print(\"Some important information\")\n",
    "\n",
    "# versus\n",
    "\n",
    "my_new_string = \"#Some important information\"\n",
    "print(my_new_string)\n",
    "\n",
    "# They behave identically\n",
    "# Then what IS the difference between them?\n",
    "# Answer: Variables are remembered by Python! They can be used at anytime later in the program"
   ]
  },
  {
   "cell_type": "code",
   "execution_count": null,
   "metadata": {
    "collapsed": false
   },
   "outputs": [],
   "source": [
    "# Basic Math\n",
    "# Jupyter Notebook remembers all cells in the same Notebook that you've run previously.\n",
    "# If you're unfaimiliar with Jupyter Notebook terminology, please read the Readme again\n",
    "# Until you go Kernel -> Restart on the top menu! Restart clears out the Notebook's memory of past cells you've run.\n",
    "\n",
    "print(my_integer + my_float) # Even though we named the variables in the first cell, Jupyter Notebook remembers,\n",
    "print(my_integer * my_float) # as long as you actually RAN the cell where they were defined (Ctrl + Enter)\n",
    "print(my_integer / my_float)"
   ]
  },
  {
   "cell_type": "code",
   "execution_count": null,
   "metadata": {
    "collapsed": false
   },
   "outputs": [],
   "source": [
    "# Special Math\n",
    "another_integer = 57\n",
    "print(another_integer // my_integer) # Division rounded down\n",
    "print(another_integer % my_integer) # Modulus - the remainder of the division\n",
    "\n",
    "# String \"Math\"\n",
    "print(my_string * 5)"
   ]
  },
  {
   "cell_type": "code",
   "execution_count": null,
   "metadata": {
    "collapsed": false
   },
   "outputs": [],
   "source": [
    "# The \"Escaping Backslash\" - For Special Characters\n",
    "print(\"This is an\\ninteresting sentence.\") # \\n prints out the invisible \"newline\" character\n",
    "print(\"Another cool th \\ting is here\") # \\t prints out the invisible \"tab\" character\n",
    "print(\"If I want to actually type a backslash, I can just use \\\\\") # \\\\ prints out a single actual backspace\n",
    "print(\"To use double-quotes inside the string, backslash also works: \\\"A quote\\\"\") # \\\" prints out a double quote mark"
   ]
  },
  {
   "cell_type": "code",
   "execution_count": null,
   "metadata": {
    "collapsed": false
   },
   "outputs": [],
   "source": [
    "# Errors - Oh no, you're printing a variable you didn't define!\n",
    "# Can you understand what Python is saying about it?\n",
    "\n",
    "print(undefined_variable)"
   ]
  },
  {
   "cell_type": "code",
   "execution_count": null,
   "metadata": {
    "collapsed": false
   },
   "outputs": [],
   "source": [
    "# Functions - Print() is just one function. There are many, many others!\n",
    "# Imagine that functions are just extrapolations of f(x) from math.\n",
    "neg_num = -98\n",
    "positive_num = abs(neg_num) # What do you think the abs() function does?\n",
    "print(positive_num)"
   ]
  },
  {
   "cell_type": "code",
   "execution_count": null,
   "metadata": {
    "collapsed": false
   },
   "outputs": [],
   "source": [
    "# Multiple Parameters - Some functions have more than one parameter.\n",
    "# i.e. f(x,y). They are separated by commas.\n",
    "\n",
    "josh_min_value = min(-100,neg_num)\n",
    "josh_max_value = max(neg_num,1000)\n",
    "\n",
    "print(josh_min_value)\n",
    "print(josh_max_value)\n",
    "\n",
    "# You can also put functions inside of functions. This is known as \n",
    "# \"function chaining\". They run like algebra - \n",
    "# Start off inside and move outward. Thus len() is executed first.\n",
    "test_string = \"Some info\"\n",
    "print(len(test_string))"
   ]
  },
  {
   "cell_type": "code",
   "execution_count": null,
   "metadata": {
    "collapsed": false
   },
   "outputs": [],
   "source": [
    "# Original Value vs. Transformed Value\n",
    "neg_num = -98\n",
    "print(neg_num)\n",
    "print(abs(neg_num))\n",
    "\n",
    "# Python doesn't remember what the abs() function did to neg_num automatically\n",
    "print(neg_num)\n",
    "\n",
    "# Instead, you have to store it in a new variable if you want Python to remember it\n",
    "new_positive_num = abs(neg_num) \n",
    "print(new_positive_num)"
   ]
  },
  {
   "cell_type": "code",
   "execution_count": null,
   "metadata": {
    "collapsed": false
   },
   "outputs": [],
   "source": [
    "# What do YOU want Python to do? Interpreting user input\n",
    "\n",
    "# The input() function returns (that is, gives back) a STRING.\n",
    "# By storing it in a variable, we're just storing a STRING\n",
    "# in a variable\n",
    "your_response = input(\"Excuse me good sir, could you tell me the best way to get to the supermarket?\")\n",
    "\n",
    "print(your_response)"
   ]
  },
  {
   "cell_type": "code",
   "execution_count": null,
   "metadata": {
    "collapsed": false
   },
   "outputs": [],
   "source": [
    "# IF-ELIF-ELSE - Flow Control in Python and The Power of Indentation\n",
    "# Uses classic mathematical operators - less than (<), greater than (>), \n",
    "# less than or equal to (<=), greater than or equal to (>=), etc.\n",
    "# Also has some you might not be familiar with - not equal to (!=)\n",
    "# 'elif' stands for \"Else If\". If statements run code conditionally,\n",
    "# depending on if the condition you give it is true.\n",
    "# By using AND and/or OR, you can use multiple conditions in a single\n",
    "# IF statement\n",
    "\n",
    "# DIFFERENCE BETWEEN \"==\" VS \"=\"\n",
    "# \"=\" takes the value on the RIGHT and stores it inside the\n",
    "# variable on the LEFT\n",
    "# \"==\" asks Python \"Are the values on the LEFT and RIGHT\n",
    "# equal to one another?\"\n",
    "\n",
    "my_first_integer = 75\n",
    "my_second_integer = 50\n",
    "\n",
    "print(\"I run every time!\")\n",
    "\n",
    "if my_first_integer > 10 and my_second_integer == 50:\n",
    "    print(\"I only run if this IF condition is TRUE!\")\n",
    "    print(\"Hey it's greater than 2!\")\n",
    "elif my_first_integer < -50 or my_second_integer < -50:\n",
    "    print(\"I only run if this ELIF condition is TRUE!\")\n",
    "    print(\"The integer is less than negative 50!\")\n",
    "elif my_first_integer < 5:\n",
    "    print(\"I only run if this ELIF condition is TRUE!\")\n",
    "    print(\"The integer is less than 5!\")\n",
    "else:\n",
    "    print(\"I only run if ALL THE ABOVE IF/ELIF statements are NOT TRUE!\")\n",
    "    print(\"No conditions were met\")\n",
    "    \n",
    "print(\"However, I am outside of the IF statement, and therefore run at the very end no matter what\")\n",
    "\n",
    "# Try changing the values of my_first_integer and second_integer and see how the IF statement reacts"
   ]
  },
  {
   "cell_type": "code",
   "execution_count": null,
   "metadata": {
    "collapsed": false
   },
   "outputs": [],
   "source": [
    "# What happens if two are true?\n",
    "\n",
    "my_first_integer = 20\n",
    "\n",
    "if my_first_integer > 10:\n",
    "    print(\"First One True\")\n",
    "    print(\"SOmething else\")\n",
    "elif my_first_integer > 15:\n",
    "    print(\"Second One True\")"
   ]
  },
  {
   "cell_type": "code",
   "execution_count": null,
   "metadata": {
    "collapsed": false
   },
   "outputs": [],
   "source": [
    "# The Difference Between If-Elif and two successive If statements\n",
    "\n",
    "my_first_integer = 20\n",
    "\n",
    "if my_first_integer > 10:\n",
    "    print(\"First One True\")\n",
    "if my_first_integer > 15:\n",
    "    print(\"Second One True\")"
   ]
  },
  {
   "cell_type": "code",
   "execution_count": null,
   "metadata": {
    "collapsed": false
   },
   "outputs": [],
   "source": [
    "# More Errors\n",
    "# A separate IF statement, but with an error!\n",
    "new_string = \"I am not a number\"\n",
    "if new_string > 5:\n",
    "    print(\"Python will never get to this\")"
   ]
  },
  {
   "cell_type": "code",
   "execution_count": null,
   "metadata": {
    "collapsed": false
   },
   "outputs": [],
   "source": [
    "# String Concatenation\n",
    "character_one = \"Bugs Bunny\"\n",
    "character_two = \"Elmer Fudd\"\n",
    "print(character_one + \" and \" + character_two)\n",
    "\n",
    "# String Concatenation vs. Math\n",
    "integer_string = \"9\"\n",
    "integer_string_2 = \"4\"\n",
    "regular_integer = 9\n",
    "regular_integer_2 = 4\n",
    "\n",
    "# What will each of these statements print out?\n",
    "\n",
    "print(int(integer_string) + int(integer_string_2))\n",
    "print(regular_integer + regular_integer_2)\n"
   ]
  },
  {
   "cell_type": "code",
   "execution_count": null,
   "metadata": {
    "collapsed": false
   },
   "outputs": [],
   "source": [
    "# Make Your Own Function!\n",
    "# We've seen print() and min() and others - but can we make our own?\n",
    "# Note that Python will NOT automatically run functions you create - \n",
    "# You have to call them yourself!\n",
    "# Using the def statement simply defines your function - like writing\n",
    "# it in the dictionary. It doesn't actually RUN the function\n",
    "def add_exclamation_points(some_string):\n",
    "    new_string = \"!!!\" + some_string + \"!!!\"\n",
    "    print(new_string)\n",
    "\n",
    "# Now that we created it, let's actually call/run/execute (synonyms) the function\n",
    "add_exclamation_points(\"A Random String\")"
   ]
  },
  {
   "cell_type": "code",
   "execution_count": null,
   "metadata": {
    "collapsed": false
   },
   "outputs": [],
   "source": [
    "# What's the point of making a function?\n",
    "# First, let's enhance the previous function\n",
    "\n",
    "def add_custom_symbols(some_string):\n",
    "    front_symbols = input(\"What front symbols should be used?\")\n",
    "    back_symbols = input(\"What back symbols should be used?\")\n",
    "    new_string = front_symbols + some_string + back_symbols\n",
    "    print(new_string)\n",
    "\n",
    "# Now that we created it, let's actually call the function\n",
    "add_custom_symbols(\"Some string\")"
   ]
  },
  {
   "cell_type": "code",
   "execution_count": null,
   "metadata": {
    "collapsed": true
   },
   "outputs": [],
   "source": [
    "# What if we didn't have a function?\n",
    "\n",
    "front_symbols = input(\"What front symbols should be used?\")\n",
    "back_symbols = input(\"What back symbols should be used?\")\n",
    "new_string = front_symbols + \"Some string\" + back_symbols\n",
    "print(new_string)\n",
    "front_symbols = input(\"What front symbols should be used?\")\n",
    "back_symbols = input(\"What back symbols should be used?\")\n",
    "new_string = front_symbols + \"Another string\" + back_symbols\n",
    "print(new_string)\n",
    "front_symbols = input(\"What front symbols should be used?\")\n",
    "back_symbols = input(\"What back symbols should be used?\")\n",
    "new_string = front_symbols + \"Yet a third string\" + back_symbols\n",
    "print(new_string)\n",
    "\n",
    "# Wow, that's a lot of extra code we have to write! Now imagine if we needed to do that 1000 times?"
   ]
  },
  {
   "cell_type": "code",
   "execution_count": null,
   "metadata": {
    "collapsed": false
   },
   "outputs": [],
   "source": [
    "#The METHOD - A Special Kind of Function\n",
    "# Methods are a special type of function that is specifically linked to one\n",
    "# kind of object. For example, whereas print() can be used with\n",
    "# integers, floats, strings, boolean, and many others,\n",
    "# methods can only be used on ONE specific kind of object.\n",
    "\n",
    "test_string = \"Monty Python and the Holy Grail\" # this is a string object\n",
    "print(test_string)\n",
    "print(test_string.upper()) # the .upper() here is a METHOD - a special kind of function.\n",
    "# .upper() wouldn't work if test_string stored an integer/float/boolean.\n",
    "# This should be intuitive - how do you make the number 15 uppercase? That's silliness."
   ]
  },
  {
   "cell_type": "code",
   "execution_count": null,
   "metadata": {
    "collapsed": false
   },
   "outputs": [],
   "source": [
    "#METHOD vs FUNCTION - The Difference?\n",
    "print(len(test_string)) # len() is a regular function, NOT A METHOD\n",
    "print(test_string.upper()) # Upper, by contrast, is a method! \n",
    "\n",
    "# Methods are a subset of functions. All methods are functions, but not all functions are methods\n",
    "# The upper() method ONLY WORKS on string objects. If you call it on an integer, it won't work\n",
    "new_string = \"This is a extremely important sentencen and I need to split it up by word\"\n",
    "\n",
    "# Methods can also accept parameters. The split() method is really useful.\n",
    "my_list = new_string.split(\" \")\n",
    "print(my_list)"
   ]
  },
  {
   "cell_type": "code",
   "execution_count": null,
   "metadata": {
    "collapsed": false
   },
   "outputs": [],
   "source": [
    "# Lists - a new kind of object\n",
    "# Note the straight brackets! NOT parenthesis!\n",
    "my_first_integer = 892\n",
    "\n",
    "my_first_list = ['Lions', 13, my_first_integer, \"Oh My!\"]\n",
    "print(my_first_list)"
   ]
  },
  {
   "cell_type": "code",
   "execution_count": null,
   "metadata": {
    "collapsed": true
   },
   "outputs": [],
   "source": [
    "# You can access individual elements of a list quite easily\n",
    "# This will print the list element at index ONE (the integer 13)\n",
    "print(my_first_list[1])\n"
   ]
  },
  {
   "cell_type": "code",
   "execution_count": null,
   "metadata": {
    "collapsed": false
   },
   "outputs": [],
   "source": [
    "# The append method (which only works on LIST objects) adds objects to the end of a list.\n",
    "# Any object can be added.\n",
    "my_first_list.append(\"Turtle\")\n",
    "print(my_first_list)"
   ]
  },
  {
   "cell_type": "code",
   "execution_count": null,
   "metadata": {
    "collapsed": false
   },
   "outputs": [],
   "source": [
    "# The insert() method uses two parameters - it adds a specific object to a specific index (in this case, index 2)\n",
    "# Remember, lists start with index ZERO, NOT ONE.\n",
    "my_first_list.insert(2,\"SillyBunny\")\n",
    "print(my_first_list)"
   ]
  },
  {
   "cell_type": "code",
   "execution_count": null,
   "metadata": {
    "collapsed": false
   },
   "outputs": [],
   "source": [
    "# The remove() method removes the first object that matches the object you\n",
    "# send in its first parameter\n",
    "my_first_list.remove(\"Turtle\")\n",
    "print(my_first_list)"
   ]
  },
  {
   "cell_type": "code",
   "execution_count": null,
   "metadata": {
    "collapsed": false
   },
   "outputs": [],
   "source": [
    "# Oh no! A list error!\n",
    "new_list = [\"first\",\"second\",\"third\"]\n",
    "# Index 19 is WAY outside this list!\n",
    "print(new_list[19])"
   ]
  },
  {
   "cell_type": "code",
   "execution_count": null,
   "metadata": {
    "collapsed": false
   },
   "outputs": [],
   "source": [
    "# Python List Slicing\n",
    "\n",
    "my_second_list = [123.55,\"bunny\",\"rabbit\",\"forest\",\"GMU\",\"social science\"]\n",
    "\n",
    "# Remember we talked about list indexes?\n",
    "# We can get chunks of lists very quickly by using their indexes\n",
    "# For example, the 0:4 below means start at index 0 (inclusive) and end at index 4 (exclusive). Get me a new list with\n",
    "# only those indexes inside!\n",
    "# The colon (:) is supremely important to separate the two values!\n",
    "\n",
    "print(my_second_list[0:4]) # If you don't need to store the new \"sublist\" anywhere, you can print it directly\n",
    "my_third_list = my_second_list[1:3] # Otherwise, you can make a new variable and store the sublist in that variable\n",
    "# my_third_list is a LIST object just like my_second_list, it's just smaller\n",
    "print(my_third_list)"
   ]
  },
  {
   "cell_type": "code",
   "execution_count": null,
   "metadata": {
    "collapsed": false
   },
   "outputs": [],
   "source": [
    "# More List Slicing Examples\n",
    "print(my_second_list[:4]) # The zero isn't technically needed if you want to start from the beginning.\n",
    "print(my_second_list[3:len(my_second_list)]) # You can even have functions inside the brackets.\n",
    "# However, to make it easier, Python implicitly understands that leaving the second part blank \n",
    "# means the same thing as \"until the end\"\n",
    "print(my_second_list[3:]) "
   ]
  },
  {
   "cell_type": "code",
   "execution_count": null,
   "metadata": {
    "collapsed": false
   },
   "outputs": [],
   "source": [
    "# Advanced List Slicing\n",
    "print(my_second_list[-2:]) # Negatives can be used to \"start from the end\"\n",
    "print(my_second_list[:-2]) # Ohh, what will this one print out?\n",
    "# Play around with the numbers to understand them!"
   ]
  },
  {
   "cell_type": "code",
   "execution_count": null,
   "metadata": {
    "collapsed": false
   },
   "outputs": [],
   "source": [
    "# What about slicing Strings? They can be sliced just like lists\n",
    "another_string = \"This is yet another string\"\n",
    "print(another_string[:15])"
   ]
  },
  {
   "cell_type": "code",
   "execution_count": null,
   "metadata": {
    "collapsed": false,
    "scrolled": true
   },
   "outputs": [],
   "source": [
    "# Most Important List Methods\n",
    "josh_list = [\"Alpha\",\"Beta\",\"Gamma\",\"Delta\",\"Epsilon\"]\n",
    "print(josh_list) # Regular print statement\n",
    "print(josh_list[1]) # Print just a single element from the list\n",
    "print(josh_list.index(\"Beta\"))# Reverse - get the INDEX (1) from the VALUE (\"Beta\")!\n",
    "\n",
    "# Sort the list! Alphabetical\n",
    "josh_list.sort()\n",
    "print(josh_list)\n",
    "\n",
    "# Reverse the list order!\n",
    "josh_list.reverse()\n",
    "print(josh_list)\n",
    "\n",
    "# Split a string INTO a list by the character PERIOD\n",
    "the_sentences = \"This is a sentence. This is yet another sentence.\"\n",
    "the_sentence_list = the_sentences.split(\".\")\n",
    "print(the_sentence_list)"
   ]
  },
  {
   "cell_type": "code",
   "execution_count": null,
   "metadata": {
    "collapsed": false
   },
   "outputs": [],
   "source": [
    "# Tuples - Similar in functionliaty to lists, but can't be edited.\n",
    "# Not extremely important for social scientists, but sometimes you will receieve data in tuple format\n",
    "# Note the parenthesis instead of square brackets!\n",
    "\n",
    "my_first_tuple = (54,42,12)\n",
    "print(my_first_tuple)\n",
    "\n",
    "# Can we do this?\n",
    "my_first_tuple.append(\"Fifty\")\n",
    "print(my_first_tuple)\n",
    "# Nope, because tuples can never be edited once created! Unlike lists"
   ]
  },
  {
   "cell_type": "code",
   "execution_count": null,
   "metadata": {
    "collapsed": false
   },
   "outputs": [],
   "source": [
    "# Nested Lists - A List of Lists!\n",
    "\n",
    "# Remember that any object can go in a list - even other lists!\n",
    "# Note the TWO square brackets at the beginning, signifying a list-in-a-list\n",
    "my_nested_list = [[\"elephant\",\"zebra\",\"hippo\",\"tanuki\"],\n",
    "                  [\"George Mason University\",\"SPGIA\",\"PhD Student\"],\n",
    "                  \"Another String\"]\n",
    "# Print out the WHOLE LIST\n",
    "print(my_nested_list)"
   ]
  },
  {
   "cell_type": "code",
   "execution_count": null,
   "metadata": {
    "collapsed": false
   },
   "outputs": [],
   "source": [
    "# Basic Nested List Uses\n",
    "print(my_nested_list[0])\n",
    "\n",
    "# What will this print below?\n",
    "print(my_nested_list[1][2])\n",
    "# Why does it print that?"
   ]
  },
  {
   "cell_type": "code",
   "execution_count": null,
   "metadata": {
    "collapsed": false,
    "scrolled": true
   },
   "outputs": [],
   "source": [
    "# IMPORT Statements - Expand Your Functionality!\n",
    "# OS - Operating System Functions\n",
    "import os\n",
    "\n",
    "# To access the functions in imported packages, you have to start by typing their package name - in this case, os.\n",
    "# This is in contrast with the likes of len(), min(), and max(), which are in Python by default\n",
    "\n",
    "print(os.getcwd()) # getcwd() stands for get Current Working Directory - what Python percieves as its \"default directory\"\n",
    "print(os.listdir(\"C:/Users\")) # Only works on Windows!!\n",
    "\n",
    "# Why not include all functions by default? There's a lot of important reasons\n",
    "# Most importantly, it would slow Python down immensely in running,\n",
    "# and confuse Python if two import statements had functions that were identical"
   ]
  },
  {
   "cell_type": "code",
   "execution_count": null,
   "metadata": {
    "collapsed": false
   },
   "outputs": [],
   "source": [
    "# FOR LOOP - your best friend in Python\n",
    "# Another type of flow control\n",
    "# The for loop is how we process lists in Python!\n",
    "\n",
    "current_list = [10,9,8,\"hat\",6,5,\"glove\",3,2,1]\n",
    "\n",
    "# Note that my_element is something completely new.\n",
    "# It represents the \"current element\" in the for loop\n",
    "# The for loop code runs in its entirety for EACH element\n",
    "# in this list. So the code inside runs once when my_element\n",
    "# is 10, then once when my_element is 9, then 8, then \"hat\", etc.\n",
    "\n",
    "for my_element in current_list:\n",
    "    if my_element == 8:\n",
    "        print(my_element)"
   ]
  },
  {
   "cell_type": "code",
   "execution_count": null,
   "metadata": {
    "collapsed": false
   },
   "outputs": [],
   "source": [
    "# A new list - my shopping cart\n",
    "my_cart = [\"Bananas\", \"Blueberries\", \"Raspberries\", \"Chips\", \"Chocolate\", \"Candy\"]\n",
    "\n",
    "# You can also make empty lists to use later\n",
    "my_fruit_cart = []\n",
    "my_chocolate_cart = []\n",
    "my_other_cart = []\n",
    "\n",
    "# This next part is a little tricky to understand at first. Please take your time\n",
    "\n",
    "# The For loop below runs through a \"loop\" of my_cart\n",
    "# The \"item\" variable below is new - the For loop itself defines it!\n",
    "# That is to say, it tries to run all the indented code within the For loop for EACH item (\"Bananas\",\"Blueberries\", etc) in the list.\n",
    "# When it runs through the first time, item is equal to \"Bananas\".\n",
    "# Then it REPEATS itself and runs through the IF statement again, but for \"Blueberries\" this time\n",
    "# Keeps going to the end of the list.\n",
    "# Experiment! Keep experimenting until you think you understand the For loop\n",
    "\n",
    "for item in my_cart:\n",
    "    print(\"The item is now: \" + item)\n",
    "    if item == \"Bananas\" or item == \"Blueberries\" or item == \"Raspberries\":\n",
    "        my_fruit_cart.append(item)\n",
    "    elif item == \"Chocolate\":\n",
    "        my_chocolate_cart.append(item)\n",
    "    else:\n",
    "        my_other_cart.append(item)\n",
    "\n",
    "# You can't concatenate (merge) STRINGS and LISTS... So first, you have to convert the lists to strings!\n",
    "# To do that, we can use the str() function, which tries to convert whatever object you give it into a string.\n",
    "# If Python doesn't know how, it will give you an error.\n",
    "print(\"My Fruit Cart: \" + str(my_fruit_cart))\n",
    "print(\"My Chocolate Cart: \" + str(my_chocolate_cart))\n",
    "print(\"My Other Cart: \" + str(my_other_cart))\n",
    "print(\"My Original Cart: \" + str(my_cart))"
   ]
  },
  {
   "cell_type": "code",
   "execution_count": null,
   "metadata": {
    "collapsed": false
   },
   "outputs": [],
   "source": [
    "# The FOR loop also works on strings - going through character by character\n",
    "\n",
    "the_string = \"Time Of Your Life\"\n",
    "for current_letter in the_string:\n",
    "    print(current_letter)"
   ]
  },
  {
   "cell_type": "code",
   "execution_count": null,
   "metadata": {
    "collapsed": false
   },
   "outputs": [],
   "source": [
    "# The While Loop - To Infinity, and Beyond\n",
    "# While loops are cousins to FOR loops in many respects\n",
    "# However, they run FOREVER, on repeat, if you don't tell them when to stop.\n",
    "# FOR loops only run until the list that they're looping through ends\n",
    "# Remember boolean values? Here we get to use them\n",
    "\n",
    "# Set a variable to TRUE\n",
    "keep_going = True\n",
    "\n",
    "while keep_going == True:\n",
    "    print(\"Alpha\")\n",
    "    print(\"Beta\")\n",
    "    # I want it to stop! So I set keep_going to FALSE\n",
    "    keep_going = False\n",
    "    # However, the While loop will finish its current loop before stopping (thus it will still print Gamma)\n",
    "    print(\"Gamma\")\n",
    "print(\"I'm AFTER the while loop finishes!\")"
   ]
  },
  {
   "cell_type": "code",
   "execution_count": null,
   "metadata": {
    "collapsed": false
   },
   "outputs": [],
   "source": [
    "# The same While Loop - But With Break\n",
    "# If you want the While Loop to finish processing IMMEDIATELY,\n",
    "# you should use the break statement.\n",
    "keep_going = True\n",
    "while keep_going == True:\n",
    "    print(\"Alpha\")\n",
    "    print(\"Beta\")\n",
    "    # Break is a special Python keyword - it's more forceful! \n",
    "    # It will IMMEDIATELY cease the current while loop\n",
    "    # Break can also be used in FOR loops to immediately cease the current FOR loop\n",
    "    break\n",
    "    print(\"Gamma\")\n",
    "print(\"I'm AFTER the while loop finishes!\")"
   ]
  },
  {
   "cell_type": "code",
   "execution_count": null,
   "metadata": {
    "collapsed": false
   },
   "outputs": [],
   "source": [
    "# Dictionary - Cousin of the List\n",
    "# Dictionaries use \"key-value pairs\"\n",
    "# They're called dictionaries because they're related to their real-world cousins.\n",
    "# A real-world dictionary will have a key (say, 'bathtub') and a value (however the dictionary defines the word bathtub)\n",
    "# Python dictionaries work the same way\n",
    "\n",
    "# Pay careful attention to the syntax! There are a lot of little things to remember\n",
    "# Note that it uses curly brackets instead of straight brackets.\n",
    "# Also note its use of colons to separate each key from its associated value\n",
    "# Plus the fact that commas separate each key-value pair from the next\n",
    "my_dictionary = {'one': 2938, \n",
    "                 'two': 'Green Day', \n",
    "                 'three': 'Antonin Scalia', \n",
    "                 'bunny':'A small animal that likes to hop'}\n",
    "\n",
    "# Once the dictionary is created, values are accessed by their key\n",
    "# This is unlike lists, which are accessed by their numerical index\n",
    "print(my_dictionary['one'])\n",
    "print(my_dictionary['three'])\n",
    "\n",
    "# Adding new key-value pairs to an existing dictionary is easy!\n",
    "my_dictionary['another_key'] = \"A value associated with that key\"\n",
    "print(my_dictionary['another_key'])"
   ]
  },
  {
   "cell_type": "code",
   "execution_count": null,
   "metadata": {
    "collapsed": false
   },
   "outputs": [],
   "source": [
    "#In-Class Group Exercise: Password Login\n",
    "the_variable = \"This is a variable\"\n",
    "my_input = input(\"This is a question?\")\n",
    "if the_variable == \"Some Thing over here\":\n",
    "    print(\"Maybe do stuff here too?\")\n",
    "    \n",
    "'''\n",
    "You have been hired by Acme, Inc. They are terrified of \"bad guys\", and need YOU to create a brilliant\n",
    "Python password-protection program to protect their computer system.\n",
    "Can you do it?\n",
    "\n",
    "Core Functionality:\n",
    "(1) Ask the user for a Username and a Password\n",
    "(2) Checks to see if they are \"correct\" (YOU define the correct answer in advance!)\n",
    "(3) Give the user a different message depending on if it is correct or not\n",
    "'''\n",
    "\n",
    "'''\n",
    "Advanced Functionality:\n",
    "(1) If the user guesses wrong (wrong username OR wrong password), keep asking them infinitely until they get it right\n",
    "(Hint: Loop anyone?)\n",
    "'''"
   ]
  },
  {
   "cell_type": "code",
   "execution_count": null,
   "metadata": {
    "collapsed": false
   },
   "outputs": [],
   "source": [
    "# Basic Solution\n",
    "\n",
    "# Create username/password\n",
    "username = \"Jon\"\n",
    "password = \"Doe\"\n",
    "\n",
    "# Ask for username\n",
    "user_attempt = input(\"What is the username?\")\n",
    "\n",
    "# Ask for password\n",
    "user_pass = input(\"What is the password?\")\n",
    "\n",
    "# Check if both conditions match\n",
    "if user_attempt == username and user_pass == password:\n",
    "    print(\"You did it correctly!\")\n",
    "else:\n",
    "    print(\"You did NOT do it correctly!\")"
   ]
  },
  {
   "cell_type": "code",
   "execution_count": null,
   "metadata": {
    "collapsed": false
   },
   "outputs": [],
   "source": [
    "# Advanced Solution\n",
    "\n",
    "# Create username/password\n",
    "username = \"Jon\"\n",
    "password = \"Doe\"\n",
    "\n",
    "# Store the users' latest attempt.\n",
    "# At the beginning, their \"latest attempt\" will be an empty string\n",
    "user_attempt = \"\"\n",
    "user_pass = \"\"\n",
    "\n",
    "# Use a while loop to keep looping until the user gets it right\n",
    "# Translation: So long as the attempt isn't corrent OR the password isn't correct\n",
    "while user_attempt != username or user_pass != password:  \n",
    "    user_attempt = input(\"What is the username?\")\n",
    "    user_pass = input(\"What is the password?\")\n",
    "    \n",
    "    # Check if the user got it right\n",
    "    # If the user didn't, tell them they got it wrong\n",
    "    if user_attempt != username or user_pass != password:\n",
    "        print(\"You got it wrong, please try again!\")\n",
    "    # However, if the user got it right, it will go back to the while loop condition\n",
    "    # once again, and this time end the while loop.\n",
    "\n",
    "# Note that this final print statement is OUTSIDE the while loop\n",
    "# It will process only when the while loop is finished\n",
    "print(\"Congrats, you finally got it!\")"
   ]
  }
 ],
 "metadata": {
  "anaconda-cloud": {},
  "kernelspec": {
   "display_name": "Python [default]",
   "language": "python",
   "name": "python3"
  },
  "language_info": {
   "codemirror_mode": {
    "name": "ipython",
    "version": 3
   },
   "file_extension": ".py",
   "mimetype": "text/x-python",
   "name": "python",
   "nbconvert_exporter": "python",
   "pygments_lexer": "ipython3",
   "version": "3.4.5"
  }
 },
 "nbformat": 4,
 "nbformat_minor": 0
}
