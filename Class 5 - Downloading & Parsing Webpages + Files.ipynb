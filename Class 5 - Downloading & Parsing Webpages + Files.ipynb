{
 "cells": [
  {
   "cell_type": "code",
   "execution_count": null,
   "metadata": {
    "collapsed": true
   },
   "outputs": [],
   "source": [
    "## CLASS 5: Downloading & Parsing Webpages/Files"
   ]
  },
  {
   "cell_type": "code",
   "execution_count": null,
   "metadata": {
    "collapsed": false
   },
   "outputs": [],
   "source": [
    "## Preparation for Downloading: List Comprehensions - The one line FOR loop\n",
    "\n",
    "# The List Comprehension is a special way of making a list from a For Loop with minimal code\n",
    "# They're not REQUIRED to know, but they can be extremely useful to make your code shorter and more readable\n",
    "# Powerful list comprehensions can replace as many as 20 lines of code with a single line\n",
    "# In the long term, these will save you countless hours of work, even if the syntax is a bit confusing at first\n",
    "# List comprehensions involve putting a special bit of code inside of a list's square brackets,\n",
    "# instead of each element of the list\n",
    "\n",
    "### Example 1: Using list comprehensions with lists\n",
    "\n",
    "generic_list = [\"Alpha\",\"Beta\",\"Gamma\",\"Delta\",\"Epsilon\"]\n",
    "\n",
    "# my_regular_old_list below is generated with a List Comprehension.\n",
    "# It will be identical to generic_list above in every way\n",
    "# Note that the 'element' variable below doesn't exist prior to using it in the List Comprehension\n",
    "# Just like you'd write \"for element in generic_list:\", element is a new variable\n",
    "# Thus, in its absolute most basic form, List Comprehensions don't do any kind of change to the list at all\n",
    "\n",
    "my_regular_old_list = [element for element in generic_list]\n",
    "# In English, the above code does the following:\n",
    "# For every element in the list, stick it in a new list.\n",
    "print(my_regular_old_list)\n",
    "\n",
    "# Now, lets make a modification...\n",
    "new_list = [element for element in generic_list if element != \"Beta\"]\n",
    "# This starts off the same way... for every element in the list, stick it into the new list.\n",
    "# However, it adds on an IF statement - only if that particular element IS NOT \"Beta\"\n",
    "print(new_list)"
   ]
  },
  {
   "cell_type": "code",
   "execution_count": null,
   "metadata": {
    "collapsed": false
   },
   "outputs": [],
   "source": [
    "# The second list comprehension (new_list) is equal to the following code:\n",
    "new_list = []\n",
    "for element in my_regular_old_list:\n",
    "    if(element != \"Beta\"):\n",
    "        another_list.append(element)\n",
    "print(another_list)\n",
    "# 5 lines of code in 2 lines. And this is a very basic usage."
   ]
  },
  {
   "cell_type": "code",
   "execution_count": null,
   "metadata": {
    "collapsed": false
   },
   "outputs": [],
   "source": [
    "## List Comprehensions can be used for Strings too\n",
    "# This time I'm not storing the List Comprehension in a variable, I'm just printing it out directly\n",
    "# Turn a string into a list of letters\n",
    "print([letter for letter in \"Hello, World!\"])"
   ]
  },
  {
   "cell_type": "code",
   "execution_count": null,
   "metadata": {
    "collapsed": false
   },
   "outputs": [],
   "source": [
    "## One of the most powerful features of list comprehensions is to modify every element of a list a certain way\n",
    "# Add an exclamation point to every letter (and cut the string up into a list of letter-! pairs)\n",
    "# In English: \"For each letter in the phrase 'Hello World!', add an exclamation\n",
    "# point to it and insert it into a list.\n",
    "print([(letter + \"!\") for letter in \"Hello, World!\"])"
   ]
  },
  {
   "cell_type": "code",
   "execution_count": null,
   "metadata": {
    "collapsed": false
   },
   "outputs": [],
   "source": [
    "# A fancy technique used alongside list comprehensions on strings is the string object's .join() method\n",
    "# .join combines a list of strings together into a single string.\n",
    "# If we modify the previous list comprehension...\n",
    "\n",
    "# Since join is a method for String objects (and not a function), you have to actually call it\n",
    "# on a string. In this case, I called it on string that includes just a single space. \n",
    "# What this means is that when the list is joined together, every element in the list will be connected via a space\n",
    "print(\" \".join([letter+\"!\" for letter in \"Hello, World!\"]))\n",
    "\n",
    "# If we do the same exact thing without a space in the string (i.e. an emptry string), what will it print?\n",
    "print(\"\".join([letter+\"!\" for letter in \"Hello, World!\"]))"
   ]
  },
  {
   "cell_type": "code",
   "execution_count": null,
   "metadata": {
    "collapsed": false
   },
   "outputs": [],
   "source": [
    "## A multiplication table for the 9's\n",
    "print([9*num for num in range(0,13)])\n"
   ]
  },
  {
   "cell_type": "code",
   "execution_count": null,
   "metadata": {
    "collapsed": false
   },
   "outputs": [],
   "source": [
    "## Make a list of letters in a string if they're not 'o'\")\n",
    "\n",
    "# If you're using ONLY IF, it goes at the very end!\n",
    "print([letter for letter in \"Hello, World!\" if letter != 'o'])\n",
    "\n",
    "# In a rarity, Python has a little awkward syntax here - if you are using IF and ELSE both, you have to have it BEFORE\n",
    "# the FOR statement. It looks awkward, but it works just fine.\n",
    "print([letter if letter != 'o' else \"?\" for letter in \"Hello, World!\"])"
   ]
  },
  {
   "cell_type": "code",
   "execution_count": null,
   "metadata": {
    "collapsed": false
   },
   "outputs": [],
   "source": [
    "# Finally, onto Downloading Webpages\n",
    "\n",
    "# The skillset we are going to focus on from now on is called \"web scraping\"\n",
    "# The general rule of thumb is that anything you can do online via clicking a mouse and typing in letters\n",
    "# on your keyboard, you can do super-fast and repetitively with Python.\n",
    "\n",
    "# Basic website data-grabbing\n",
    "import requests\n",
    "import sys\n",
    "\n",
    "# The requests library is the most important for grabbing website data. Just call the .get() function in the requests\n",
    "# library and enter the hyperlink as the parameter. It returns a Response object, which has a number of methods\n",
    "# and attributes which give you access to all the critical information you'd want from a website.\n",
    "\n",
    "# In this example, I'm \"getting\" a website of my own that I created.\n",
    "# You can copy and paste the hyperlink in your browser and view it like a normal webpage if you want.\n",
    "my_response_object = requests.get(\"http://mason.gmu.edu/~jlee17/python_workshop_files/example_data/index-very-simple.html\")\n",
    "\n",
    "# Let's print out what kind of object we're getting with the type() function:\n",
    "print(type(my_response_object))\n",
    "\n",
    "## TWO NEW CONCEPTS: assert and status_code. \n",
    "# Notice that status_code below doesn't have () at the end. As discussed earlier, this is because status_code is an attribute\n",
    "# As for what a status code is, for all HTTP requests (that is, anytime you go to a webpage), the webpage sends you back\n",
    "# a numeric status code. It is uniform across the internet. A status code of 200 means OK. Any other number\n",
    "# (and there are dozens of other status codes) means that there's some sort of problem.\n",
    "# The assert statement is basically an error-checking capability of Python. You give assert statements conditions that\n",
    "# are either True or False. If the assert statement is False, it will automatically throw up an Error\n",
    "# and stop further processing.\n",
    "\n",
    "# For example, imagine you have a list of 50 websites that you're downloading. \n",
    "# You certainly might want to know if one of them didn't come back properly and stop further processing. \n",
    "# Perhaps your internet connection died momentarily, or perhaps the page hyperlink was typed in incorrectly\n",
    "# Try changing the == to != to see what happens when the assert statement fails.\n",
    "assert my_response_object.status_code == 200\n",
    "\n",
    "# Finally, there are two other attributes stored inside the Response object that are particularly important: Text and Content\n",
    "# .text stores the actual text, whereas .content stores that same information in raw computer code (bytes).\n",
    "# Because the website I went to is a regular old website, it's just made up of text. Thus, I want the .text attribute\n",
    "# However, if you were doing requests.get() on a PDF file (see the cell below), you'd want the .content attribute\n",
    "# If you tried to get the .text attribute of a Response object containing a PDF file, you would see only gibberish\n",
    "print(my_response_object.text)\n",
    "# To prove to yourself that the text is the literal real-deal, copy-paste the hyperlink above into your browser. \n",
    "# When you get there, right click and there should be an option that looks like \"View Source\" (depending on your browser). \n",
    "# Left-click it, and you will see a new page identical to what is printed below.\n",
    "\n",
    "# But how do we extract the critical content we want FROM the webpage code? That comes next class"
   ]
  },
  {
   "cell_type": "code",
   "execution_count": null,
   "metadata": {
    "collapsed": false
   },
   "outputs": [],
   "source": [
    "# Downloading a PDF (or really any file)\n",
    "# It's really easy to download a PDF file with Python\n",
    "import requests\n",
    "\n",
    "# Get the data, which Python interprets as a RESPONSE object, from the internet and put it into a variable.\n",
    "# You can see for yourself it's a regular old PDF file, copy paste it into your browser if you want.\n",
    "response = requests.get(\"http://ku.ac.bd/wp-content/uploads/2016/05/pdf-sample.pdf\")\n",
    "\n",
    "# Make sure it got here OK with assert\n",
    "assert response.status_code == 200\n",
    "\n",
    "# Open up a new file and prepare for writing the file. Note the \"wb\" instead of \"w\"\n",
    "# PDF files are not raw text files, and thus you must use \"wb\" with them.\n",
    "file = open(\"Output Files/my_downloaded_file.pdf\", \"wb\")\n",
    "\n",
    "# Finally, use the file's write() method to write the response's content attribute.\n",
    "file.write(response.content)\n",
    "\n",
    "# Close the file\n",
    "file.close()\n",
    "print(\"Done!\")\n",
    "\n",
    "# You'll have a new PDF file in the same folder as this Notebook"
   ]
  },
  {
   "cell_type": "code",
   "execution_count": null,
   "metadata": {
    "collapsed": false
   },
   "outputs": [],
   "source": [
    "# That nested dictionary from the previous class... How did I get it in the first place?\n",
    "# By accessing the FAA's Database with Python!\n",
    "## ACCESSING ONLINE DATABASES WITH PYTHON\n",
    "\n",
    "import requests\n",
    "import pprint\n",
    "# The big \"Word of the Day\": API - Application Programming Interface\n",
    "# When a website has an API, it means that they are telling you:\n",
    "# \"We have configured our data so that you can access it easily with a programming language like Python\"\n",
    "\n",
    "# Look below: you start out with a normal URL, but look what's at the end.\n",
    "# There's a question mark and text after the question mark.\n",
    "# This means you're sending a variable TO the website. In this case, we're sending a variable named format\n",
    "# The variable is equl to the String'application/json'. \n",
    "# NOTE: For sending variables inside URLs, you do NOT use quotes!\n",
    "\n",
    "# You can find the documention (i.e. How I figured out that 'format' was the variable I needed to set)\n",
    "# on the FAA's official API website.\n",
    "url = 'http://services.faa.gov/airport/status/BWI?format=application/json'\n",
    "# Lets do requests.get() on it!\n",
    "response = requests.get(url)\n",
    "\n",
    "# Here is the most important line. Oftentimes, APIs will send you data in a special web format called JSON.\n",
    "# JSON stands for JavaScript Object Notation, but for our purposes they are cousins of Python dictionaries.\n",
    "# Python can easily convert them for you out of the Response object - just call the .json() method on the Response object\n",
    "dict_file = response.json()\n",
    "\n",
    "# Let's print it!\n",
    "pprint.pprint(dict_file)"
   ]
  },
  {
   "cell_type": "code",
   "execution_count": null,
   "metadata": {
    "collapsed": true
   },
   "outputs": [],
   "source": [
    "# Now let's combine a For Loop with this API database access to access 5 airports in less than 10 lines of code\n",
    "my_list = [\"MIA\",\"DCA\",\"BWI\",\"IAD\",\"RSW\"]\n",
    "my_airport_dictionaries = []\n",
    "import pprint\n",
    "\n",
    "# An interesting sidenote is that the airport itself isn't a variable AFTER the question mark, \n",
    "# it's actually part of the hyperlink. This is a subjective decision that the FAA programmers made.\n",
    "for my_airport in my_list:\n",
    "    # Via string concatenation, our for loop will have the correct URL for each iteration\n",
    "    url = 'http://services.faa.gov/airport/status/' + my_airport + '?format=application/json'\n",
    "    response = requests.get(url)\n",
    "    dict_file = response.json()\n",
    "    my_airport_dictionaries.append(dict_file)\n",
    "    pprint.pprint(dict_file)"
   ]
  },
  {
   "cell_type": "code",
   "execution_count": null,
   "metadata": {
    "collapsed": false
   },
   "outputs": [],
   "source": [
    "# There is one improvement we can make, however - some APIs require multiple variables to be sent\n",
    "# While you could add multiple variables with the & sign (That is, www.somewebsite.com/stuff?var_one=value1&var2=value2),\n",
    "# it can be annoying to write it that way. Imagine if you had to set 8 variables?\n",
    "# Thankfully, the requests.get() function has an OPTIONAL parameter named params, which takes a Python dictionary.\n",
    "# See below\n",
    "\n",
    "import requests\n",
    "import pprint\n",
    "\n",
    "# Configure base hyperlink WITHOUT variables at the end\n",
    "url = 'http://services.faa.gov/airport/status/MIA'\n",
    "\n",
    "# Make new dictionary\n",
    "payload = {}\n",
    "# Setup dictionary to mimic variables\n",
    "# This can be used for multiple variables\n",
    "payload['format'] = 'application/json'\n",
    "# If we had a second variable...\n",
    "#payload['second_variable'] = 'variable_value'\n",
    "\n",
    "# Finally, write requests.get() with the params=payload argument at the end\n",
    "# Since params is OPTIONAL, you have to specify it directly so Python knows which optional variable you're using\n",
    "response = requests.get(url,params=payload)\n",
    "dict_file = response.json()\n",
    "pprint.pprint(dict_file)"
   ]
  },
  {
   "cell_type": "code",
   "execution_count": null,
   "metadata": {
    "collapsed": false
   },
   "outputs": [],
   "source": [
    "# Sadly, government data isn't always very clean, and the JSONs can be complex to understand at times\n",
    "# Try running this cell...\n",
    "\n",
    "import requests\n",
    "import pprint\n",
    "\n",
    "url = 'https://data.cdc.gov/api/views/rqg5-mkef/rows.json'\n",
    "payload = {}\n",
    "payload['accessType'] = \"DOWNLOAD\"\n",
    "\n",
    "response = requests.get(url, params=payload)\n",
    "assert response.status_code == 200\n",
    "# Note that writing out 'https://data.cdc.gov/api/views/rqg5-mkef/rows.json?accessType=DOWNLOAD' would also work\n",
    "# But using payload is usually easier to read and modify\n",
    "dict_file = response.json()\n",
    "# Very poorly formatted data indeed\n",
    "pprint.pprint(dict_file)"
   ]
  },
  {
   "cell_type": "code",
   "execution_count": null,
   "metadata": {
    "collapsed": false
   },
   "outputs": [],
   "source": [
    "import pprint\n",
    "# You can access nested dictionaries without too much difficulty\n",
    "# Let's try and get all the column names:\n",
    "columns = dict_file['meta']['view']['columns']\n",
    "# However, it's still not clean...\n",
    "pprint.pprint(columns)"
   ]
  },
  {
   "cell_type": "code",
   "execution_count": null,
   "metadata": {
    "collapsed": false
   },
   "outputs": [],
   "source": [
    "# A List Comprehension does the trick for organizing some critical data.\n",
    "my_columns = [element['fieldName'] for element in columns]\n",
    "pprint.pprint(my_columns)"
   ]
  },
  {
   "cell_type": "code",
   "execution_count": null,
   "metadata": {
    "collapsed": false
   },
   "outputs": [],
   "source": [
    "# Nevertheless, with sufficient effort, you can still parse your way through it...\n",
    "\n",
    "# This cell is not commented on purpose, try to understand what's going on.\n",
    "\n",
    "import unicodecsv as csv\n",
    "\n",
    "columns = dict_file['meta']['view']['columns']\n",
    "headers = [element['fieldName'] for element in columns]\n",
    "print(headers)\n",
    "csv_list = []\n",
    "csv_list.append(headers)\n",
    "\n",
    "for row in dict_file['data']:\n",
    "    csv_list.append(row)\n",
    "\n",
    "current_file = open(\"Output Files/newcsv.csv\",\"wb\")\n",
    "csv_file = csv.writer(current_file)\n",
    "\n",
    "for row in csv_list:\n",
    "    csv_file.writerow(row)\n",
    "current_file.close()\n",
    "print(\"Done!\")"
   ]
  },
  {
   "cell_type": "code",
   "execution_count": null,
   "metadata": {
    "collapsed": false
   },
   "outputs": [],
   "source": [
    "# Complete Program:\n",
    "# Get the FAA data, flatten it, and then write it out to a file\n",
    "\n",
    "import unicodecsv as csv\n",
    "import requests\n",
    "import pprint\n",
    "\n",
    "# Flatdict is a very useful library for flattening dictionaries for spreadsheet output\n",
    "# Without flattening, nested dictionaries will not output correctly\n",
    "# You need to install flatdict first with \"pip install flatdict\" in the command prompt/terminal\n",
    "import flatdict\n",
    "\n",
    "url = 'http://services.faa.gov/airport/status/'\n",
    "airports = [\"MIA\",\"DCA\",\"IAD\",\"BWI\"]\n",
    "\n",
    "# Configure file name and payload\n",
    "payload = {}\n",
    "payload['format'] = 'application/json'\n",
    "\n",
    "# Prepare the output spreadsheet for writing\n",
    "file_name = 'Output Files/FAA_Data.csv'\n",
    "opened_file = open(file_name,'wb')\n",
    "my_csv_file = csv.writer(opened_file)\n",
    "\n",
    "# Send out a GET request, making sure to set the params parameter\n",
    "for airport in airports:\n",
    "    url_full = url + airport\n",
    "    response = requests.get(url_full, params=payload)\n",
    "    # Check to make sure it succeeded\n",
    "    assert resp.status_code == 200\n",
    "    # Convert the JSON file to a Python dictionary\n",
    "    json_object = response.json()\n",
    "    # Now that we have our dictionary from the FAA, let's convert it into a flatdict\n",
    "    # A flat dict transforms a nested dictionary into a single, unnested dictionary.\n",
    "    flat_json = flatdict.FlatDict(json_object)\n",
    "    # See for yourself - notice how the dictionary is no longer nested\n",
    "    pprint.pprint(flat_json)\n",
    "\n",
    "    # Both dictionaries and flatdicts have two very useful methods - keys() and values()\n",
    "    # Keys returns a list of dictionary keys, whereas values returns a list of those keys' associated values\n",
    "    data_key_row = flat_json.keys()\n",
    "    my_csv_file.writerow(data_key_row)\n",
    "    data_value_row = flat_json.values()\n",
    "    my_csv_file.writerow(data_value_row)\n",
    "    # Currently, it prints out the keys every other row\n",
    "    # How could you modify this file so as to only have it print out the keys on the first row?\n",
    "\n",
    "opened_file.close()\n",
    "print(\"Done!\")"
   ]
  },
  {
   "cell_type": "code",
   "execution_count": null,
   "metadata": {
    "collapsed": true
   },
   "outputs": [],
   "source": [
    "# The New York Times also has an API.\n",
    "# However - they require you to get an API Key before they'll let you use it.\n",
    "# Most API keys are completely free, but they're a way for the Times to track\n",
    "# your usage of their API to ensure you don't misuse it\n",
    "\n",
    "# To get your own free New Your Times API, go to:\n",
    "# https://developer.nytimes.com/signup\n",
    "# Make sure you're getting an Article Search API Key\n",
    "\n",
    "import requests\n",
    "import pprint\n",
    "\n",
    "base_url = \"https://api.nytimes.com/svc/search/v2/articlesearch.json\"\n",
    "\n",
    "# Now I'm setting two variables to send to the API\n",
    "my_p = {}\n",
    "my_p['q'] = 'Election 2014'\n",
    "# You have to replace 'YOUR_API_KEY_HERE' with the actual API key that the Times gives you\n",
    "my_p['api-key'] = 'YOUR_API_KEY_HERE'\n",
    "\n",
    "# Standard finish\n",
    "response = requests.get(base_url,params=my_p)\n",
    "assert response.status_code == 200\n",
    "dictionary = response.json()\n",
    "pprint.pprint(dictionary)\n",
    "\n",
    "# How do you figure out how an API works? Generally, most APIs have official documentation for use\n",
    "# For the Times, check out https://developer.nytimes.com/article_search_v2.json and click Show Details"
    {
   "cell_type": "code",
   "execution_count": null,
   "metadata": {
    "collapsed": true
   },
   "outputs": [],
   "source": [
    "\"\"\"\n",
    "In-Class Assignment: YOU figure out the documentation!\n",
    "You have become a scholar studying Pokemon! You need to use the PokeAPI to create a spreadsheet\n",
    "containing critical Poke-information.\n",
    "\n",
    "Core Functionality:\n",
    "(1) Visit the Poke-API's primary documentation page at http://pokeapi.co \n",
    "and study their documentation\n",
    "(2) Construct requests.get() functions to get the information from the \n",
    "FIRST 151 POKEMON (HINT: FOR loop)\n",
    "(3) Inside a spreadsheet, each pokemon should be represented by a row. \n",
    "GOTTA CATCH'EM ALL!!!\n",
    "hyperlink = http://pokeapi.co/api/v2/pokemon/\n",
    "\n",
    "Hint:\n",
    "for number in range(1,152):\n",
    "    current_hyperlink = ...\n",
    "\n",
    "Hint 2:\n",
    "Note that the base stats are inside of a list - \n",
    "A dictionary inside a list inside another dictionary. IE:\n",
    "my_dict['stats'][0]['base_stat']\n",
    "\n",
    "Hint 3:\n",
    "Pokemon's name can be found at:\n",
    "my_dict['name']\n",
    "\n",
    "Hint 4:\n",
    "Don't forget to use pretty print (pprint.pprint) when trying to parse through\n",
    "the nested dictionary JSON. It should make it a little more readable.\n",
    "\n",
    "Concentrate on the \"{\" and the \"[\"!\n",
    "\n",
    "In each row, insert the following information from the response JSON:\n",
    "- Pokemon Name\n",
    "- Pokemon Weight\n",
    "- Pokemon Base Speed Stat\n",
    "- Pokemon Base Defense Stat\n",
    "- Pokemon Base Attack Stat\n",
    "- Pokemon Base HP Stat\n",
    "- Pokemon Type(s) - you only need the first one if there are multiple\n",
    "(4) Write the spreadsheet to a file and close the file.\n",
    "(HINT: You DON'T need to worry about a Pokemon's \"attacks/moves\" - you can skip a LOT in the middle)\n",
    "\n",
    "Advanced Functionality:\n",
    "(1) Before you send them to be outputted, sort the pokemon in PYTHON via their Base Speed Stat - The lower the\n",
    "Base Speed Stat, the higher up in the spreadsheet the Pokemon should be!\n",
    "\"\"\""
   ]
  }
   ]
  }
 ],
 "metadata": {
  "anaconda-cloud": {},
  "kernelspec": {
   "display_name": "Python [default]",
   "language": "python",
   "name": "python3"
  },
  "language_info": {
   "codemirror_mode": {
    "name": "ipython",
    "version": 3
   },
   "file_extension": ".py",
   "mimetype": "text/x-python",
   "name": "python",
   "nbconvert_exporter": "python",
   "pygments_lexer": "ipython3",
   "version": "3.4.5"
  }
 },
 "nbformat": 4,
 "nbformat_minor": 0
}
