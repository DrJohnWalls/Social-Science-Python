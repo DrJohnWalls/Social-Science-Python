{
 "cells": [
  {
   "cell_type": "code",
   "execution_count": null,
   "metadata": {
    "collapsed": true
   },
   "outputs": [],
   "source": [
    "## Class 10: String Matching & Language Processing"
   ]
  },
  {
   "cell_type": "code",
   "execution_count": null,
   "metadata": {
    "collapsed": false
   },
   "outputs": [],
   "source": [
    "# Text parsing can be split into three levels - Level 1, Level 2, and Level 3\n",
    "# Sometimes only a single level is needed, sometimes multiple.\n",
    "# Choosing which level is the best one to start with takes experience\n",
    "# Generally speaking, each level is more complex to configure than the previous level\n",
    "# However, higher levels can often solve more complex problems"
   ]
  },
  {
   "cell_type": "code",
   "execution_count": null,
   "metadata": {
    "collapsed": false
   },
   "outputs": [],
   "source": [
    "# Level 1 Text Parsing - String Methods\n",
    "\n",
    "my_string = \"The bunny rabbit\"\n",
    "# The find() method\n",
    "print(my_string.find(\"nn\"))\n",
    "\n",
    "# The endswith() method\n",
    "if my_string.endswith(\"rabbit\"):\n",
    "    print(\"It ended with rabbit\")\n",
    "\n",
    "# startswith()\n",
    "if my_string.startswith(\"The\"):\n",
    "    print(\"It began with The\")\n",
    "\n",
    "# The 'in' keyword\n",
    "if \"bun\" in my_string:\n",
    "    print(\"It contains bun\")\n",
    "\n",
    "# lower()/upper()/title()\n",
    "print(my_string.lower())\n",
    "print(my_string.upper())\n",
    "print(my_string.title())"
   ]
  },
  {
   "cell_type": "code",
   "execution_count": null,
   "metadata": {
    "collapsed": false
   },
   "outputs": [],
   "source": [
    "# Level 2 Text Parsing - Fuzzy Matching\n",
    "# Fuzzy matching uses a complex bit of math called the Levenshtein distance algorithm.\n",
    "# This algorithm compares strings for 'similarity'\n",
    "# It returns a \"similarity index\" between 0 and 100 - the higher the index, the more similar the compared strings are\n",
    "# You will need to do \"pip install fuzzywuzzy\" to run it however.\n",
    "\n",
    "import fuzzywuzzy.fuzz as fuzz\n",
    "import fuzzywuzzy.process as process\n",
    "\n",
    "# There are 4 main ways to implement the Levenshtein algorithm - ratio and partial_ratio are the first two\n",
    "\n",
    "print(fuzz.ratio(\"ACME Factory\", \"fwefwfderpACME Factoryaaaa Incwefwefwefwef.\"))# Standard comparison\n",
    "# 44\n",
    "\n",
    "#partial_ratio ignores extra text before or after\n",
    "print(fuzz.partial_ratio(\"ACME Factory\", \"awefawefaderpACME Factoryaaaa Inawefawefawefc.\"))\n",
    "# 100\n",
    "\n",
    "# Both the token_* functions \"tokenize\" (i.e. split phrases into a list of word strings by spaces)\n",
    "# They also both lowercase all letters, and delete all non-alphanumeric characters\n",
    "# NOTE: If you get a warningthat says:\n",
    "# \"UserWarning: Using slow pure-python SequenceMatcher. Install python-Levenshtein to remove this warning\n",
    "# That's fine, you can remove it by doing \"pip install python-Levenshtein\".\n",
    "# Depending on your operating system, you may need to install Microsoft Visual C++ first, however.\n",
    "# Without it, it'll still work just fine, but slowed down."
   ]
  },
  {
   "cell_type": "code",
   "execution_count": null,
   "metadata": {
    "collapsed": false
   },
   "outputs": [],
   "source": [
    "# Old functions\n",
    "print(fuzz.ratio('John Doe', 'There is a guy named john H. doe'))\n",
    "print(fuzz.partial_ratio('John Doe', 'There is a guy named john H. doe'))"
   ]
  },
  {
   "cell_type": "code",
   "execution_count": null,
   "metadata": {
    "collapsed": false
   },
   "outputs": [],
   "source": [
    "# This one compares each tokenized word and uses a weighing function to calculate \n",
    "# the final similarity index of the overall string.\n",
    "# Ignores all capitalizations, punctuation, and spacing between words\n",
    "print(fuzz.token_sort_ratio('John Doe', 'There is a guy named john H. doe'))"
   ]
  },
  {
   "cell_type": "code",
   "execution_count": null,
   "metadata": {
    "collapsed": false
   },
   "outputs": [],
   "source": [
    "# This one only makes sure all the words EXIST. If there are extra words, it ignores them.\n",
    "# Ignores all capitalizations, punctuation, and spacing between words\n",
    "print(fuzz.token_set_ratio('John Doe', 'There is a guy named john H. doe'))"
   ]
  },
  {
   "cell_type": "code",
   "execution_count": null,
   "metadata": {
    "collapsed": false
   },
   "outputs": [],
   "source": [
    "# They'll both be 100\n",
    "print(fuzz.token_sort_ratio('John H Doe', 'John H. Doe'))\n",
    "print(fuzz.token_set_ratio('John H Doe', 'John H. Doe'))"
   ]
  },
  {
   "cell_type": "code",
   "execution_count": null,
   "metadata": {
    "collapsed": false
   },
   "outputs": [],
   "source": [
    "# The other really useful module in fuzzywuzzy is process. Give process a word and a list\n",
    "# and it will give you back the best match\n",
    "# The extractOne() function returns a tuple with two elements in it - \n",
    "# the word that matched and its score\n",
    "\n",
    "choices = [\"Bunny\",\"Kitty\",\"Doggy\",\"Supreme Lizard King\"]\n",
    "my_word = \"Kitten\"\n",
    "my_match = process.extractOne(my_word, choices)\n",
    "print(my_match)\n",
    "print(my_match[0])\n",
    "print(my_match[1])"
   ]
  },
  {
   "cell_type": "code",
   "execution_count": null,
   "metadata": {
    "collapsed": false
   },
   "outputs": [],
   "source": [
    "# Level 3 Text Parsing Technique - Regular Expressions (aka Regex or re)\n",
    "\n",
    "# Sometimes, all of Python's string methods AND fuzzy matching are simply not enough\n",
    "# In these extreme cases, our last line of defense\n",
    "# (without a PhD in computer science and a neural network) is Regular Expressions.\n",
    "# Regex works by creating a special \"matching string\" - this matching string has rules built into it.\n",
    "# Any string that the regex matching string finds that follows its rules is returned as True.\n",
    "# You can make matching strings of amazing sophistication and complex rules - \n",
    "# For example, matching only valid US phone numbers or \n",
    "# only syntactically-valid http web addresses or valid email addresses is simple\n",
    "\n",
    "# For a cheat sheet and some baiscs on what regex is, check out http://regexone.com/\n",
    "# For Python's official documentation regarding all the different Regex functions, check out:\n",
    "# https://docs.python.org/3.5/library/re.html#re.search\n",
    "\n",
    "# NOTE: Regex is literally its own miniature programming language integrated into python.\n",
    "# Because of this, this course does not cover Regex in depth\n",
    "\n",
    "import re\n",
    "def check_matches(regex_string,my_list = []):\n",
    "    for element in my_list:\n",
    "        is_valid = re.match(regex_string, element)\n",
    "        if is_valid:\n",
    "            print(\"{0} is valid!\".format(element))\n",
    "        else:\n",
    "            print(\"{0} is NOT valid!\".format(element))\n",
    "\n",
    "# Example One: Email Validity Checker\n",
    "regex_string = \"[a-zA-Z0-9._%+-]+@[a-zA-Z0-9.-]+\\.[a-zA-Z]{2,4}\"\n",
    "my_email_list = [\"not_an_email\",\"am_i_an_email@1.1\",\"i_am_an_email@yahoo.com\",\n",
    "                \"%$#bad_email@gmail.com\",\"another_good_email@aol.qqq\"]\n",
    "check_matches(regex_string, my_email_list)\n",
    "# Python doesn't have a \"list of all possible email providers\", so you can still get made-up email addresses to match\n",
    "# However, it will reject any fundamentally misformatted email address."
   ]
  },
  {
   "cell_type": "code",
   "execution_count": null,
   "metadata": {
    "collapsed": false
   },
   "outputs": [],
   "source": [
    "# Example Two: Matching a hyperlink\n",
    "string_2 = \"^(https?:\\/\\/)?([\\da-z\\.-]+)\\.([a-z\\.]{2,6})([\\/\\w \\.-]*)*\\/?$\"\n",
    "my_hyperlink_list = [\"www.samplething.com\",\"https://www.samplething.com\",\"samplething.com\",\"http://samplething.com\",\n",
    "                    \"www.samplething.tv\",\"www.not!!valid.com\",\"htt1p://www.samplething.com\"]\n",
    "check_matches(string_2,my_hyperlink_list)"
   ]
  },
  {
   "cell_type": "code",
   "execution_count": null,
   "metadata": {
    "collapsed": false
   },
   "outputs": [],
   "source": [
    "# PART TWO: Understanding Natural Language\n",
    "\n",
    "# First, you'll need to run nltk.download().\n",
    "# This will cause a new window to appear on your computer.\n",
    "# In that new window, click 'all', then click Download in the bottom left.\n",
    "# This will take some time. This process ensures you have all the necessary files\n",
    "# that nltk needs to run\n",
    "import nltk\n",
    "nltk.download()"
   ]
  },
  {
   "cell_type": "code",
   "execution_count": null,
   "metadata": {
    "collapsed": false
   },
   "outputs": [],
   "source": [
    "# NLTK - The Natural Language ToolKit\n",
    "# Due to a quirk of Jupyter Notebook, you need to import re as well. NLTK uses the re library\n",
    "# The \"book\" attribute contains a number of included books that you can play with to analyze\n",
    "# Text #4 is a compilation of every presidential inaugural address ever, concatenated into a single string\n",
    "import re\n",
    "import nltk\n",
    "import nltk.book as books\n",
    "\n",
    "# The name of the current book\n",
    "print(books.text4.name)\n",
    "\n",
    "# Print the context around all instances of the selected word. 75 letters total size, the first 5 matches\n",
    "print(books.text4.concordance(\"greatness\",75,lines=10))"
   ]
  },
  {
   "cell_type": "code",
   "execution_count": null,
   "metadata": {
    "collapsed": false
   },
   "outputs": [],
   "source": [
    "# Create a dispersion plot - see how the use of various words has changed over time\n",
    "# The line below is special code for Jupyter Notebook, not Python!\n",
    "%matplotlib qt\n",
    "# It tells Jupyter Notebook that we want all visual displays in a popup window\n",
    "\n",
    "books.text4.dispersion_plot([\"citizens\", \"democracy\", \"freedom\", \"duties\", \"America\", \"security\",\"liberty\"])"
   ]
  },
  {
   "cell_type": "code",
   "execution_count": null,
   "metadata": {
    "collapsed": false
   },
   "outputs": [],
   "source": [
    "# See how many different words there are in the text\n",
    "# The set() function is new - it eliminates all exact copies of whatever you give it.\n",
    "# Thus, if you give it a list of integers, it will eliminate all copies until only 1 remains of any\n",
    "# identical numbers.\n",
    "# In this case, we can use set() to tell us how many unique words exist in all the inaugural addresses\n",
    "print(len(set(books.text4)))"
   ]
  },
  {
   "cell_type": "code",
   "execution_count": null,
   "metadata": {
    "collapsed": false
   },
   "outputs": [],
   "source": [
    "# Count the instances of the word fidelity\n",
    "print(books.text4.count(\"fidelity\"))\n",
    "\n",
    "# Provide the offset (how many words came before it) for the first use of the word fidelity\n",
    "print(books.text4.index('fidelity'))\n",
    "\n",
    "# Find the 30 most common bigrams (two word pairs)\n",
    "print(books.text4.collocations(30))"
   ]
  },
  {
   "cell_type": "code",
   "execution_count": null,
   "metadata": {
    "collapsed": false
   },
   "outputs": [],
   "source": [
    "# Frequency distributions are great for content analysis\n",
    "import pprint\n",
    "# NLTK has a list of very useful stopwords built-in to it.\n",
    "# Stopwords are fairly useless words that we probably don't really care about in our analysis\n",
    "stopwords = nltk.corpus.stopwords.words('english')\n",
    "\n",
    "# We can even print them out to take a look at what's inside\n",
    "print(stopwords)\n",
    "\n",
    "# Use a List Comprehension to take out all the \"plumbing\" words and all the punctuation. Who cares how many commas there are?\n",
    "fdist1 = nltk.FreqDist(w for w in books.text4 if w.lower() not in stopwords and w.isalpha())\n",
    "# The generic way of doing it is:\n",
    "# fdist1 = nltk.FreqDist(books.text4)\n",
    "# However, this does not filter out the \"stopwords\" OR the punctuation\n",
    "\n",
    "pprint.pprint(fdist1.most_common(50))"
   ]
  },
  {
   "cell_type": "code",
   "execution_count": null,
   "metadata": {
    "collapsed": false
   },
   "outputs": [],
   "source": [
    "# Plot out the 50 most common words, cumulatively added\n",
    "fdist1.plot(50, cumulative=True)"
   ]
  },
  {
   "cell_type": "code",
   "execution_count": null,
   "metadata": {
    "collapsed": false
   },
   "outputs": [],
   "source": [
    "# Show the instances of the word liberty\n",
    "print(fdist1['liberty'])"
   ]
  },
  {
   "cell_type": "code",
   "execution_count": null,
   "metadata": {
    "collapsed": false
   },
   "outputs": [],
   "source": [
    "# Transform a big string into a list of smaller strings:\n",
    "\n",
    "my_tokenized_string = nltk.word_tokenize(\"Your String Here.\")\n",
    "print(my_tokenized_string)\n",
    "\n",
    "# Make your own nltk \"corpus\" from a tokenized string\n",
    "text = nltk.Text(my_tokenized_string)\n",
    "print(text.count(\"Your\"))"
   ]
  },
  {
   "cell_type": "code",
   "execution_count": null,
   "metadata": {
    "collapsed": false
   },
   "outputs": [],
   "source": [
    "# With frequency distribution, we can get not just bigrams, but trigrams...\n",
    "fdist_new = nltk.FreqDist(nltk.trigrams(w for w in books.text4 if w.lower() not in stopwords and w.isalpha()))\n",
    "pprint.pprint(fdist_new.most_common(50))"
   ]
  },
  {
   "cell_type": "code",
   "execution_count": null,
   "metadata": {
    "collapsed": false
   },
   "outputs": [],
   "source": [
    "# ...and n-grams.\n",
    "fdist_new = nltk.FreqDist(nltk.ngrams(books.text4,4))\n",
    "pprint.pprint(fdist_new.most_common(50))"
   ]
  },
  {
   "cell_type": "code",
   "execution_count": null,
   "metadata": {
    "collapsed": false
   },
   "outputs": [],
   "source": [
    "# NLTK for SENTIMENT ANALYSIS: The VADER algorithm\n",
    "# Since its invention in 2014, VADER has gained quite a following\n",
    "# To read the paper yourself, see http://comp.social.gatech.edu/papers/icwsm14.vader.hutto.pdf\n",
    "# It has proven itself extemely effective at quantitizing sentiment from short phrases.\n",
    "# Initially invented for tweet analysis, it is also used to en-masse analyze comments sections on websites\n",
    "# Python's nltk library has VADER integrated into it for us, so we don't need to do any complex math or code\n",
    "\n",
    "from nltk.sentiment.vader import SentimentIntensityAnalyzer\n",
    "from nltk import tokenize\n",
    "\n",
    "# Sentence examples taken from http://www.nltk.org/howto/sentiment.html\n",
    "\n",
    "sentences = [\"VADER is smart, handsome, and funny.\", # positive sentence example\n",
    "\"VADER is smart, handsome, and funny!\", # punctuation emphasis handled correctly (sentiment intensity adjusted)\n",
    "\"VADER is very smart, handsome, and funny.\",  # booster words handled correctly (sentiment intensity adjusted)\n",
    "\"VADER is VERY SMART, handsome, and FUNNY.\",  # emphasis for ALLCAPS handled\n",
    "\"VADER is VERY SMART, handsome, and FUNNY!!!\",# combination of signals - VADER appropriately adjusts intensity\n",
    "\"VADER is VERY SMART, really handsome, and INCREDIBLY FUNNY!!!\",# booster words & punctuation make this close to ceiling for score\n",
    "\"The book was good.\",         # positive sentence\n",
    "\"The book was kind of good.\", # qualified positive sentence is handled correctly (intensity adjusted)\n",
    "\"The plot was good, but the characters are uncompelling and the dialog is not great.\", # mixed negation sentence\n",
    "\"A really bad, horrible book.\",       # negative sentence with booster words\n",
    "\"At least it isn't a horrible book.\", # negated negative sentence with contraction\n",
    "\":) and :D\",     # emoticons handled\n",
    "\"\",              # an empty string is correctly handled\n",
    "\"Today sux\",     #  negative slang handled\n",
    "\"Today sux!\",    #  negative slang with punctuation emphasis handled\n",
    "\"Today SUX!\",    #  negative slang with capitalization emphasis\n",
    "\"Today kinda sux! But I'll get by, lol\", # mixed sentiment example with slang and constrastive conjunction \"but\"\n",
    "\"Most automated sentiment analysis tools are shit.\",\n",
    "\"VADER sentiment analysis is the shit.\",\n",
    "\"Sentiment analysis has never been good.\",\n",
    "\"Sentiment analysis with VADER has never been this good.\",\n",
    "\"Warren Beatty has never been so entertaining.\",\n",
    "\"I won't say that the movie is astounding and I wouldn't claim that \\\n",
    "the movie is too banal either.\",\n",
    "\"I like to hate Michael Bay films, but I couldn't fault this one\",\n",
    "\"It's one thing to watch an Uwe Boll film, but another thing entirely \\\n",
    "to pay for it\",\n",
    "\"The movie was too good\",\n",
    "\"This movie was actually neither that funny, nor super witty.\",\n",
    "\"This movie doesn't care about cleverness, wit or any other kind of \\\n",
    "intelligent humor.\",\n",
    "\"Those who find ugly meanings in beautiful things are corrupt without \\\n",
    "being charming.\",\n",
    "\"There are slow and repetitive parts, BUT it has just enough spice to \\\n",
    "keep it interesting.\",\n",
    "\"The script is not fantastic, but the acting is decent and the cinematography \\\n",
    "is EXCELLENT!\",\n",
    "\"Roger Dodger is one of the most compelling variations on this theme.\",\n",
    "\"Roger Dodger is one of the least compelling variations on this theme.\",\n",
    "\"Roger Dodger is at least compelling as a variation on the theme.\",\n",
    "\"they fall in love with the product\",\n",
    "\"but then it breaks\",\n",
    "\"usually around the time the 90 day warranty expires\",\n",
    "\"the twin towers collapsed today\",\n",
    "\"However, Mr. Carter solemnly argues, his client carried out the kidnapping \\\n",
    "under orders and in the ''least offensive way possible.''\"\n",
    "]\n",
    "\n",
    "# Create the SentimentIntensityAnalyzer object\n",
    "sid = SentimentIntensityAnalyzer()\n",
    "\n",
    "# Go through each sentence\n",
    "for sentence in sentences:\n",
    "    print(sentence)\n",
    "    # Apply VADER to the sentence\n",
    "    ss = sid.polarity_scores(sentence)\n",
    "    # See what VADER gives you in return\n",
    "    print(ss)\n",
    "    print()\n",
    "\n",
    "# Understanding VADER's output:\n",
    "# VADER gives you a Python dictionary with 4 keys:\n",
    "# pos (Positive), neg (Negative), neu (Neutral), and compound\n",
    "# Positive is a value from 0 to 1 that tells you the positivity of the expressed sentiment\n",
    "# Negative is a value from 0 to 1 that tells you the negativity\n",
    "# Neutral is a value from 0 to 1 that didn't fall into either Positive or Negative\n",
    "# Positive + Negative + Neutral always equals 1.\n",
    "# Compound is an algorithm for encompassing positive, negative, and neutral in a single comparable value.\n",
    "# Compound is a value from -1 to 1"
   ]
  }
 ],
 "metadata": {
  "anaconda-cloud": {},
  "kernelspec": {
   "display_name": "Python [default]",
   "language": "python",
   "name": "python3"
  },
  "language_info": {
   "codemirror_mode": {
    "name": "ipython",
    "version": 3
   },
   "file_extension": ".py",
   "mimetype": "text/x-python",
   "name": "python",
   "nbconvert_exporter": "python",
   "pygments_lexer": "ipython3",
   "version": "3.4.5"
  }
 },
 "nbformat": 4,
 "nbformat_minor": 1
}
