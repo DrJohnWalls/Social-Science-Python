{
 "cells": [
  {
   "cell_type": "code",
   "execution_count": null,
   "metadata": {
    "collapsed": false
   },
   "outputs": [],
   "source": [
    "# Writing to a text document\n",
    "\n",
    "# Note that the text file does NOT NEED to preivously exist when writing - Python will automatically\n",
    "# create the text document for you.\n",
    "# The little \"w\" stringng in the second parameter below just means that the file will be opened in \"writing\" mode.\n",
    "# Python understands what the \"w\" means.\n",
    "# my_writing_file stores a File object that the open() function gives to you\n",
    "# (just like a String object, an Integer object, a List object, etc.)\n",
    "\n",
    "my_writing_file = open(\"text_file_1.txt\",\"w\")\n",
    "\n",
    "# The .write() method should be clear - write the string inside to the document\n",
    "my_writing_file.write(\"Here is the first line!\\n\")\n",
    "my_writing_file.write(\"Here is the second line!\\n\")\n",
    "my_writing_file.write(\"Here is the third line!\\n\")\n",
    "# Make sure to close the file when you're done! Otherwise problems can occur later\n",
    "my_writing_file.close() \n",
    "print(\"Done!\")\n",
    "\n",
    "# NOTE: WHEN READING OR WRITING, MAKE SURE THE FILE ITSELF IS CLOSED ON YOUR COMPUTER!\n",
    "# YOUR COMPUTER MAY NOT GIVE PYTHON PERMISSION TO READ/WRITE THE FILE IF YOU HAVE IT OPEN!"
   ]
  },
  {
   "cell_type": "code",
   "execution_count": null,
   "metadata": {
    "collapsed": false
   },
   "outputs": [],
   "source": [
    "# Reading from a text document\n",
    "\n",
    "# CRITICAL: YOU ACTUALLY NEED TO HAVE A FILE NAMED text_file_1.txt in your default Current Working Directory\n",
    "# (remember os.getcwd() from last class?) for it to work. If you want to open a file in another directory, you need\n",
    "# to copy/paste the whole path (i.e. C:/Program Files/My Thing/text_file_1.txt)\n",
    "# Luckily, the cell right above this one creates text_file_1.txt in your current working directory for you :)\n",
    "\n",
    "my_reading_file = open(\"text_file_1.txt\",\"r\")\n",
    "\n",
    "# Reads the WHOLE text file in one gulp into a single string\n",
    "text_in_file = my_reading_file.read()\n",
    "\n",
    "# Close it\n",
    "my_reading_file.close()\n",
    "\n",
    "# Lets see what we have?\n",
    "print(text_in_file)\n",
    "print(\"Done!\")"
   ]
  },
  {
   "cell_type": "code",
   "execution_count": null,
   "metadata": {
    "collapsed": false
   },
   "outputs": [],
   "source": [
    "# Alternate - Read a file as a list of lines of text instead one giant text blob\n",
    "\n",
    "my_reading_file = open(\"text_file_1.txt\",\"r\")\n",
    "\n",
    "# This makes a LIST, with each list element being one line of text\n",
    "# Note the readLINES method!\n",
    "list_of_lines = my_reading_file.readlines()\n",
    "my_reading_file.close()\n",
    "print(list_of_lines[1])\n",
    "print(\"Done!\")"
   ]
  },
  {
   "cell_type": "code",
   "execution_count": null,
   "metadata": {
    "collapsed": false
   },
   "outputs": [],
   "source": [
    "# Writing to CSV Files\n",
    "import unicodecsv as csv# The unicodecsv package - Creating spreadsheets with your output!\n",
    "# This is a little tricky to explain. Python has a library called \"csv\" automatically. However, Python's generic CSV\n",
    "# library has a major problem for social scientists - it doesn't work very well with non-English characters!\n",
    "# It freaks out quite reguarly with the incredibly frustrating Unicode(De/En)codeError, which I pray you never get.\n",
    "# Thankfully, one ingenious Python developer decided to make a \"wrapper\" library called unicodecsv. The unicodecsv\n",
    "# library does everything that the normal csv library does, but it also accepts international text quite easily.\n",
    "# IMPORTANT: YOU MUST INSTALL THE NEW LIBRARY BEFORE IT WILL WORK! To do this, open up a NEW command prompt/terminal\n",
    "# and type in \"pip install unicodecsv\" (without quotes)\n",
    "\n",
    "opened_file = open('test_spreadsheet.csv','wb')\n",
    "# Note the \"wb\" here instead of \"w\"! Unless you're writing to a basic text file, you should almost always use\n",
    "# \"wb\", which signifies to Python that you want to write in something called \"Byte Mode\", or in raw computer code\n",
    "# rather than computer code translated into text. Thankfully, the CSV will still display properly becuase\n",
    "# Excel is extremely good at translating computer code into text for us :)\n",
    "\n",
    "my_csv_file = csv.writer(opened_file)\n",
    "# Finally, you call the unicodecsv library. Note the \"as csv\" at the top of the cell - all th means is that\n",
    "# when you write \"csv.\", Pyhton understands it to mean \"unicodecsv.\". It saves a fair amount of typing over time.\n",
    "# The csv.writer() function takes in a regular File object (set to byte mode) as input, and spits out (\"returns\") \n",
    "# a new CSVFile object. Unlike normal File objects, the CSVFile object has special capabilities. \n",
    "# I've saved the CSVFile object in the my_csv_file variable.\n",
    "\n",
    "my_variable = \"Hey Look\"\n",
    "\n",
    "# For example, CSVFile objects give you a writerow() method, which is really useful!\n",
    "# We can understand why normal File objects don't allow writerow() - what does writing a row even mean in a normal\n",
    "# text document??\n",
    "my_csv_file.writerow([my_variable,4.6543,7.3453,2,1232])\n",
    "my_csv_file.writerow([123,345,567,754,\"Bunny Rabbit\",\"Niagra Falls\",\"Python!\"])\n",
    "# And there, you just wrote two rows!\n",
    "\n",
    "# NOTE: You only close the ORIGINAL File object, you DONT need to close the CSVFile object.\n",
    "opened_file.close()\n",
    "print(\"Done!\")"
   ]
  },
  {
   "cell_type": "code",
   "execution_count": null,
   "metadata": {
    "collapsed": false
   },
   "outputs": [],
   "source": [
    "# Reading from CSV Files - pretty similar\n",
    "\n",
    "import unicodecsv as csv\n",
    "\n",
    "# Right after it is written, there's no reason you can't read it!\n",
    "read_filepath = 'test_spreadsheet.csv'\n",
    "\n",
    "# Note the \"rb\" once again! Reading or writing, must be in Byte Mode!\n",
    "file_to_read = open(read_filepath,'rb')\n",
    "# As a cousin of csv.writer, csv.reader lets you READ a CSV file that already exists\n",
    "csv_to_read = csv.reader(file_to_read)\n",
    "my_new_list = []\n",
    "\n",
    "# To read the CSVFile contents, you use a for loop.\n",
    "# Each iteration of the for loop (each time it goes through the indented code), it returns you the next row\n",
    "# Later on we'll be looking into advanced methods of MODIFYING CSV files, but for now we're focusing mostly\n",
    "# on READING and WRITING\n",
    "\n",
    "for idx, row in enumerate(csv_to_read):\n",
    "    if idx < 4:\n",
    "        print(idx)\n",
    "    # Maybe we only want to get a CERTAIN COLUMN into our list\n",
    "    #my_new_list.append(row[2])\n",
    "    #print(row[4])\n",
    "    # Lets think over the logic. If the for loop goes through every row, and in each row we pick up the 3rd\n",
    "    # spreadsheet cell and put it into a list, then naturally at the very end of the for loop we have a new\n",
    "    # column created that is identical to the column in the spreadsheet!\n",
    "file_to_read.close()\n",
    "\n",
    "# What does the for loop above get us? A column! (based on the index used)\n",
    "print(my_new_list)\n",
    "print(\"Done!\")"
   ]
  },
  {
   "cell_type": "code",
   "execution_count": null,
   "metadata": {
    "collapsed": false
   },
   "outputs": [],
   "source": [
    "# A short aside - Nested Dictionaries\n",
    "# Just as you can have lists-inside-lists, you can have dictionaries-inside-dictionaries\n",
    "# Nested dictionaries are at the core of what databases send to Python when you ask them for information\n",
    "# Don't worry if the dca_airport_data variable below is incomprehensible right now, \n",
    "# just run this cell and you'll see it printed out much clearer\n",
    "# 99.9% of the time, you don't have to make your own dictionaries from scratch, you just have to modify them from the\n",
    "# internet\n",
    "\n",
    "import pprint # pprint is the Pretty Print package - it prints out complex data like nested dictionaries into something readable!\n",
    "\n",
    "dca_airport_data = {'IATA': 'DCA', 'ICAO': 'KDCA', 'city': 'Washington', 'delay': 'false', 'name': 'Ronald Reagan Washington National',\n",
    " 'state': 'District of Columbia', 'status': {'avgDelay': '','closureBegin': '','closureEnd': '',\n",
    "'endTime': '','maxDelay': '','minDelay': '','reason': 'No known delays for this airport.','trend': '',\n",
    "'type': ''},'weather': {'meta': {'credit': \"NOAA's National Weather Service\",'updated': '8:52 PM Local','url': 'http://weather.gov/'},\n",
    "'temp': '77.0 F (25.0 C)','visibility': 10.0,'weather': 'Mostly Cloudy','wind': 'North at 5.8mph'}}\n",
    "\n",
    "print(\"Here is the regular print nested dictionary:\\n\")\n",
    "print(dca_airport_data) # Normal print looks like a total mess!\n",
    "\n",
    "print(\"\\nHere is the pretty print nested dictionary:\\n\")\n",
    "pprint.pprint(dca_airport_data) # Pretty Print does a much better job!\n",
    "# It even shows you the dictionary-inside-dictionary values much more clearly!!\n",
    "# take a look at the 'status' key - the value isn't a string like the others, but it's a whole dictionary itself.\n",
    "# If you wanted to access the 'reason' value, for example (run this cell first to see for yourself), you would have to type\n",
    "# reason_value = dca_airport_data['status']['reason']\n",
    "# Just like you can use the square brackets twice for nested list indexes, the same works with nested dictionaries\n",
    "print(\"Done!\")\n",
    "\n",
    "dca_airport_data['IATA']"
   ]
  },
  {
   "cell_type": "code",
   "execution_count": null,
   "metadata": {
    "collapsed": false
   },
   "outputs": [],
   "source": [
    "dca_airport_data['status']['reason']"
   ]
  },
  {
   "cell_type": "code",
   "execution_count": null,
   "metadata": {
    "collapsed": false
   },
   "outputs": [],
   "source": [
    "# NEW CELL\n",
    "# Taking a page from the next workshop...\n",
    "# Basic website data-grabbing\n",
    "# First import the requests library\n",
    "import requests\n",
    "\n",
    "# Second, use the requests library to get a webpage\n",
    "# Using requests.get() just grabs whatever is at that website\n",
    "my_hyperlink = \"http://mason.gmu.edu/~jlee17/python_workshop_files/example_data/index-very-simple.html\"\n",
    "# In this case, that whatever is a normal webpage.\n",
    "# Python receives the webpage as a Response Object. Just like String, Integer, Float, etc...\n",
    "my_response_object = requests.get(my_hyperlink)\n",
    "\n",
    "# The Response object has not only methods inside it (discussed next week)...\n",
    "# It also contains variables inside it, and stored in those variables are very useful objects\n",
    "# One of the most useful is the text variable. It contains the webpage as a simple string\n",
    "print(my_response_object.text)"
   ]
  },
  {
   "cell_type": "code",
   "execution_count": null,
   "metadata": {
    "collapsed": false
   },
   "outputs": [],
   "source": [
    "### NEW CELL\n",
    "# But now let's go back to that nested dictionary I showed you... How did I get it in the first place???\n",
    "# By accessing the FAA's Database with Python!\n",
    "\n",
    "import requests\n",
    "import pprint\n",
    "\n",
    "# The Big Word: API - Application Programming Interface\n",
    "# All API means is \"we have configured our data so that you can access it super-easily with a programming language\"\n",
    "# Huh, this hyperlink is weird, isn't it? What does it all mean?\n",
    "url = 'http://services.faa.gov/airport/status/DCA?format=application/json'\n",
    "\n",
    "# Now to access the get() function inside the requests library.\n",
    "response = requests.get(url)\n",
    "\n",
    "# Here is the critical line! Oftentimes APIs will send you data in a special web format called JSON.\n",
    "# JSONs are cousins of Python dictionaries, and Python can easily convert them for you out of the Response object\n",
    "my_new_dictionary = response.json()\n",
    "\n",
    "# Let's print it and see what we got!\n",
    "pprint.pprint(my_new_dictionary)"
   ]
  },
  {
   "cell_type": "code",
   "execution_count": null,
   "metadata": {
    "collapsed": false
   },
   "outputs": [],
   "source": [
    "### NEW CELL\n",
    "# What if I wanted to access multiple airports?\n",
    "my_list = [\"MIA\",\"DCA\",\"BWI\",\"IAD\",\"RSW\"]\n",
    "my_airport_dictionaries = []\n",
    "import pprint\n",
    "\n",
    "for my_element in my_list:\n",
    "    url = 'http://services.faa.gov/airport/status/' + my_element + '?format=application/json'\n",
    "    response = requests.get(url)\n",
    "    dict_file = response.json()\n",
    "    my_airport_dictionaries.append(dict_file)\n",
    "    pprint.pprint(dict_file)"
   ]
  },
  {
   "cell_type": "code",
   "execution_count": null,
   "metadata": {
    "collapsed": false
   },
   "outputs": [],
   "source": [
    "### NEW CELL\n",
    "# Let's print them all together:\n",
    "\n",
    "pprint.pprint(my_airport_dictionaries)"
   ]
  },
  {
   "cell_type": "code",
   "execution_count": null,
   "metadata": {
    "collapsed": false
   },
   "outputs": [],
   "source": [
    "### NEW CELL\n",
    "# How do we write dictionaries to files?\n",
    "import unicodecsv as csv\n",
    "\n",
    "my_file = open(\"airport_output.csv\",\"wb\")\n",
    "csv_file = csv.writer(my_file)\n",
    "\n",
    "csv_file.writerow(['Airport Code','City','Temperature'])\n",
    "for airport_dict in my_airport_dictionaries:\n",
    "    csv_file.writerow([airport_dict['IATA'],airport_dict['city'],airport_dict['weather']['temp']])\n",
    "my_file.close()\n",
    "print(\"Done!\")\n",
    "\n"
   ]
  },
  {
   "cell_type": "code",
   "execution_count": null,
   "metadata": {
    "collapsed": false
   },
   "outputs": [],
   "source": [
    "#PDF To TXT Conversion\n",
    "import PyPDF2 # Wait! We don't have this package! How do we get it?\n",
    "\n",
    "pdfFileObj = open('Sample PDF.pdf', 'rb') # Just like WRITE in byte mode, we can READ in byte mode\n",
    "pdf_file_reading_object = PyPDF2.PdfFileReader(pdfFileObj)\n",
    "print(\"There are \" + str(pdf_file_reading_object.numPages) + \" pages.\")\n",
    "mega_string = \"\"\n",
    "new_file = open('the_text_file.txt','w')\n",
    "\n",
    "for i in range(0,pdf_file_reading_object.numPages):\n",
    "    pageObj = pdf_file_reading_object.getPage(i)\n",
    "    mega_string += pageObj.extractText()\n",
    "    #Remember, += just means mega_string = mega_string + pageObj.extractText()\n",
    "new_file.write(mega_string)\n",
    "new_file.close()\n",
    "print(\"Complete!\")"
   ]
  },
  {
   "cell_type": "code",
   "execution_count": null,
   "metadata": {
    "collapsed": false
   },
   "outputs": [],
   "source": [
    "import unicodecsv as csv\n",
    "my_input = open(\"6.2-male_names.txt\",\"r\")\n",
    "my_output = open(\"my_spreadsheet.csv\",\"wb\")\n",
    "my_csv = csv.writer(my_output)\n",
    "my_rows = my_input.readlines()\n",
    "for row in my_rows:\n",
    "    new_row = row.split()\n",
    "    my_csv.writerow(new_row)\n",
    "my_input.close()\n",
    "my_output.close()\n",
    "print(\"Done!\")"
   ]
  },
  {
   "cell_type": "code",
   "execution_count": null,
   "metadata": {
    "collapsed": false
   },
   "outputs": [],
   "source": [
    "my_string = \"Hello    World    I     am    Josh\"\n",
    "print(my_string.split())\n",
    "\n",
    "'''\n",
    "In-Workshop Assignment\n",
    "You need to transform a text document into a spreadsheet. How can you go about doing this?\n",
    "\n",
    "Core Functionality:\n",
    "(1) Read in the file male_names.txt\n",
    "(2) Open an ouput file\n",
    "(3) Wrap the output file as a CSVFile Object\n",
    "(4) Loop through the text from male_names.txt, writing each \"part\" to its own cell\n",
    "(5) Close both the input and output files\n",
    "(Hint: The .split() string method may be useful...)\n",
    "'''\n",
    "\n",
    "'''\n",
    "Advanced Functionality:\n",
    "(1) Do the same thing, but this time make sure your output file only has names that begin with the letter \"B\"\n",
    "(Hint: String objects have a very useful startswith() method which returns True or False.\n",
    "Thus, you could do if my_string.startswith(\"B\") == True:)\n",
    "'''"
   ]
  }
 ],
 "metadata": {
  "anaconda-cloud": {},
  "kernelspec": {
   "display_name": "Python [default]",
   "language": "python",
   "name": "python3"
  },
  "language_info": {
   "codemirror_mode": {
    "name": "ipython",
    "version": 3
   },
   "file_extension": ".py",
   "mimetype": "text/x-python",
   "name": "python",
   "nbconvert_exporter": "python",
   "pygments_lexer": "ipython3",
   "version": "3.4.5"
  }
 },
 "nbformat": 4,
 "nbformat_minor": 0
}
