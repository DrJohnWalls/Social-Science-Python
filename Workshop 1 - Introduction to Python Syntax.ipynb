{
 "cells": [
  {
   "cell_type": "code",
   "execution_count": null,
   "metadata": {
    "collapsed": false
   },
   "outputs": [],
   "source": [
    "# The Most Basic Function\n",
    "print(\"Hello World\")"
   ]
  },
  {
   "cell_type": "code",
   "execution_count": null,
   "metadata": {
    "collapsed": false
   },
   "outputs": [],
   "source": [
    "# The Four Basic Objects of Python - String, Integer, Float, Boolean\n",
    "my_string = \"Bunny\"\n",
    "print(my_string)\n",
    "\n",
    "first_string = \"One\"\n",
    "second_string = \"Two\"\n",
    "print(first_string + second_string)\n"
   ]
  },
  {
   "cell_type": "code",
   "execution_count": null,
   "metadata": {
    "collapsed": false
   },
   "outputs": [],
   "source": [
    "# Adding variables to print()\n",
    "print(\"Hello, World. Did you know that one of my variables is named \" + my_string)"
   ]
  },
  {
   "cell_type": "code",
   "execution_count": null,
   "metadata": {
    "collapsed": true
   },
   "outputs": [],
   "source": [
    "# In Python, you always have the choice between using (a) the ACTUAL VALUE or (b) a variable STORING that value\n",
    "# For example:\n",
    "\n",
    "print(\"Some important information\")\n",
    "\n",
    "# versus\n",
    "\n",
    "my_new_string = \"Some important information\"\n",
    "print(my_new_string)\n",
    "\n",
    "# They behave identically\n",
    "# Then what IS the difference between them? It's quite important..."
   ]
  },
  {
   "cell_type": "code",
   "execution_count": null,
   "metadata": {
    "collapsed": false
   },
   "outputs": [],
   "source": [
    "# Basic Math\n",
    "# Jupyter Notebook remembers all cells in the same Notebook that you've run previously\n",
    "# That is, until you go Kernel -> Restart! Restart clears out the Notebook's memory of past cells you've run\n",
    "my_integer = 10\n",
    "my_float = 3.5\n",
    "print(my_integer + my_float) # Even though we named the variables in the first cell, Jupyter Notebook remembers,\n",
    "print(my_integer * my_float) # as long as you actually RAN the first cell (Ctrl + Enter)\n",
    "print(my_integer / my_float)"
   ]
  },
  {
   "cell_type": "code",
   "execution_count": null,
   "metadata": {
    "collapsed": false
   },
   "outputs": [],
   "source": [
    "whatever(\"Some New String\")"
   ]
  },
  {
   "cell_type": "code",
   "execution_count": null,
   "metadata": {
    "collapsed": false
   },
   "outputs": [],
   "source": [
    "# Special Math\n",
    "another_integer = 57\n",
    "print(another_integer // my_integer) # Division rounded down\n",
    "print(another_integer % my_integer) # Modulus - the remainder of the division\n",
    "my_string = \"Bunny\"\n",
    "# String \"Math\"\n",
    "print(my_string * 5)"
   ]
  },
  {
   "cell_type": "code",
   "execution_count": null,
   "metadata": {
    "collapsed": false
   },
   "outputs": [],
   "source": [
    "# The \"Escaping Backslash\" - For Special Characters\n",
    "print(\"This is an \\n interesting sentence.\") # \\n prints out the invisible \"newline\" character\n",
    "print(\"Another cool th \\ting is here\") # \\t prints out the invisible \"tab\" character\n",
    "print(\"If I want to actually type a backslash, I can just use \\\\\") # \\\\ prints out a single actual backspace\n",
    "print(\"To use double-quotes inside the string, backslash also works: \\\"A quote\\\"\") # \\\" prints out a double quote mark\n",
    "\n",
    "\n",
    "\n",
    "\n",
    "\n",
    "\n",
    "\n",
    "\n"
   ]
  },
  {
   "cell_type": "code",
   "execution_count": null,
   "metadata": {
    "collapsed": false
   },
   "outputs": [],
   "source": [
    "# Error Handling\n",
    "\n",
    "print(undefined_variable)"
   ]
  },
  {
   "cell_type": "code",
   "execution_count": null,
   "metadata": {
    "collapsed": false
   },
   "outputs": [],
   "source": [
    "import os\n",
    "print(os.getcwd())"
   ]
  },
  {
   "cell_type": "code",
   "execution_count": null,
   "metadata": {
    "collapsed": false
   },
   "outputs": [],
   "source": [
    "new_variable = 27\n",
    "print(new_variable)\n"
   ]
  },
  {
   "cell_type": "code",
   "execution_count": null,
   "metadata": {
    "collapsed": false
   },
   "outputs": [],
   "source": [
    "# Functions\n",
    "neg_num = -98\n",
    "positive_num = abs(neg_num)\n",
    "print(positive_num) # Functions can even bePrint itself is a function, too!\n",
    "\n",
    "\n",
    "\n",
    "\n",
    "\n",
    "\n",
    "\n",
    "\n",
    "\n",
    "\n",
    "\n",
    "\n",
    "\n",
    "\n",
    "\n",
    "\n",
    "\n",
    "\n",
    "\n",
    "\n"
   ]
  },
  {
   "cell_type": "code",
   "execution_count": null,
   "metadata": {
    "collapsed": false
   },
   "outputs": [],
   "source": [
    "# Multiple Parameters\n",
    "test_string = \"This is a sentence.\"\n",
    "josh_min_value = min(-100,neg_num) # Think of f(x,y)\n",
    "josh_max_value = max(neg_num,1000)\n",
    "josh_string_length = len(test_string)\n",
    "\n",
    "print(josh_min_value)\n",
    "print(josh_max_value)\n",
    "print(josh_string_length)"
   ]
  },
  {
   "cell_type": "code",
   "execution_count": null,
   "metadata": {
    "collapsed": true
   },
   "outputs": [],
   "source": [
    "# If you don't need to store the value for later, you can do something called \"function chaining\"\n",
    "# Function chaining works like Order of Operations in algebra - \n",
    "# the furthest \"inside\" function first, then left to right, and then outside\n",
    "# In this case, it's very simple - first process the min() function. Then process the result of the min() function\n",
    "# with print(). It combines two lines of code into one.\n",
    "\n",
    "print(min(-50,-25))"
   ]
  },
  {
   "cell_type": "code",
   "execution_count": null,
   "metadata": {
    "collapsed": false
   },
   "outputs": [],
   "source": [
    "# Original Value vs. Transformed Value\n",
    "neg_num = -98\n",
    "print(neg_num)\n",
    "print(abs(neg_num))\n",
    "\n",
    "# Python doesn't remember what the abs() function did to neg_num automatically\n",
    "print(neg_num)\n",
    "\n",
    "# Instead, you have to store it in a new variable if you want Python to remember it\n",
    "new_positive_num = abs(neg_num) \n",
    "print(new_positive_num)"
   ]
  },
  {
   "cell_type": "code",
   "execution_count": null,
   "metadata": {
    "collapsed": false
   },
   "outputs": [],
   "source": [
    "# The First Slightly Interesting Function: INPUT!\n",
    "# What does the user think?\n",
    "the_website = \"http://google.com\"\n",
    "\n",
    "\n",
    "\n",
    "\n",
    "\n",
    "your_response = input(\"What website \\\n",
    "                      do you want to get information from?\")\n",
    "\n",
    "\n",
    "print(your_response)\n"
   ]
  },
  {
   "cell_type": "code",
   "execution_count": null,
   "metadata": {
    "collapsed": false
   },
   "outputs": [],
   "source": [
    "# IF-ELIF-ELSE - Flow Control in Python and The Power of Indentation\n",
    "# Uses classic mathematical operators - less than (<), greater than (>), \n",
    "# less than or equal to (<=), greater than or equal to (>=), etc.\n",
    "# Also has some you might not be familiar with - not equal to (!=)\n",
    "\n",
    "my_first_integer = 75\n",
    "my_second_integer = 49\n",
    "\n",
    "print(\"lalalalalala\")\n",
    "print(\"I run every time!\")\n",
    "\n",
    "if my_first_integer > 10 and my_second_integer = 50:\n",
    "    print(\"I only run if this IF condition is TRUE!\")\n",
    "    print(\"Hey it's greater than 2!\")\n",
    "elif my_first_integer < -50 or my_second_integer < -50:\n",
    "    print(\"I only run if this ELIF condition is TRUE!\")\n",
    "    print(\"The integer is less than negative 50!\")\n",
    "\n",
    "print(\"However, I am outside of the IF statement, and therefore run at the very end no matter what!\")\n",
    "\n",
    "# Try changing the values of my_first_integer and second_integer and see how the IF statement reacts"
   ]
  },
  {
   "cell_type": "code",
   "execution_count": null,
   "metadata": {
    "collapsed": false
   },
   "outputs": [],
   "source": [
    "# What happens if two are true?\n",
    "\n",
    "my_first_integer = 20\n",
    "\n",
    "if my_first_integer > 10:\n",
    "    print(\"First One True\")\n",
    "\n",
    "    \n",
    "    \n",
    "    \n",
    "\n",
    "    \n",
    "    \n",
    "    \n",
    "    \n",
    "if my_first_integer > 15:\n",
    "    print(\"Second One True\")\n",
    "    \n",
    "    \n",
    "    \n",
    "    \n",
    "    \n",
    "    \n",
    "    "
   ]
  },
  {
   "cell_type": "code",
   "execution_count": null,
   "metadata": {
    "collapsed": false
   },
   "outputs": [],
   "source": [
    "# The Difference Between If-Elif and two successive If statements\n",
    "\n",
    "my_first_integer = 20\n",
    "\n",
    "if my_first_integer > 10:\n",
    "    print(\"First One True\")\n",
    "if my_first_integer > 15:\n",
    "    print(\"Second One True\")"
   ]
  },
  {
   "cell_type": "code",
   "execution_count": null,
   "metadata": {
    "collapsed": false
   },
   "outputs": [],
   "source": [
    "# More Errors\n",
    "# A separate IF statement, but with an error!\n",
    "new_string = \"8\"\n",
    "if new_string > 5:\n",
    "    print(\"Python will never get to this\")\n",
    "    \n",
    "    \n",
    "    \n",
    "    \n",
    "    \n",
    "    \n",
    "    \n",
    "    \n",
    "      \n",
    "    \n",
    "    \n",
    "    \n",
    "    "
   ]
  },
  {
   "cell_type": "code",
   "execution_count": null,
   "metadata": {
    "collapsed": false
   },
   "outputs": [],
   "source": [
    "# String Concatenation\n",
    "character_one = \"Bugs Bunny\"\n",
    "character_two = \"Elmer Fudd\"\n",
    "print(character_one + \" and \" + character_two)\n",
    "\n",
    "\n",
    "\n",
    "\n",
    "\n",
    "\n",
    "\n",
    "\n",
    "\n",
    "\n",
    "\n",
    "\n",
    "\n",
    "\n",
    "\n",
    "\n",
    "\n",
    "\n",
    "\n",
    "\n"
   ]
  },
  {
   "cell_type": "code",
   "execution_count": null,
   "metadata": {
    "collapsed": false
   },
   "outputs": [],
   "source": [
    "# Make Your Own Function!\n",
    "# We've seen print() and min() and others - but can we make our own?\n",
    "# Note that Python will NOT automatically run functions you create - \n",
    "# You have to \"call\" them yourself!\n",
    "def whatever(some_string):\n",
    "    new_string = \"!!!\" + some_string + \"!!!\"\n",
    "    new_string = new_string * 5\n",
    "    print(new_string)\n",
    "\n",
    "# Now that we created it, let's actually call the function\n",
    "my_new_string = \"Some String\"\n",
    "whatever(my_new_string)\n",
    "print(my_new_string)\n",
    "\n"
   ]
  },
  {
   "cell_type": "code",
   "execution_count": null,
   "metadata": {
    "collapsed": false
   },
   "outputs": [],
   "source": [
    "# What's the point of making a function?\n",
    "# First, let's enhance the previous function\n",
    "my_variable = \"Some String\"\n",
    "def add_custom_symbols(some_string):\n",
    "    front_symbols = input(\"What front symbols should be used?\")\n",
    "    back_symbols = input(\"What back symbols should be used?\")\n",
    "    new_string = front_symbols + some_string + back_symbols\n",
    "    print(new_string)\n",
    "\n",
    "# Now that we created it, let's actually call the function\n",
    "add_custom_symbols(\"Some string\")\n",
    "add_custom_symbols(\"Never Ever\")\n",
    "\n",
    "\n",
    "\n",
    "\n",
    "\n",
    "\n"
   ]
  },
  {
   "cell_type": "code",
   "execution_count": null,
   "metadata": {
    "collapsed": true
   },
   "outputs": [],
   "source": [
    "# What if we didn't have a function?\n",
    "\n",
    "front_symbols = input(\"What front symbols should be used?\")\n",
    "back_symbols = input(\"What back symbols should be used?\")\n",
    "new_string = front_symbols + \"Some string\" + back_symbols\n",
    "print(new_string)\n",
    "front_symbols = input(\"What front symbols should be used?\")\n",
    "back_symbols = input(\"What back symbols should be used?\")\n",
    "new_string = front_symbols + \"Another string\" + back_symbols\n",
    "print(new_string)\n",
    "front_symbols = input(\"What front symbols should be used?\")\n",
    "back_symbols = input(\"What back symbols should be used?\")\n",
    "new_string = front_symbols + \"Yet a third string\" + back_symbols\n",
    "print(new_string)"
   ]
  },
  {
   "cell_type": "code",
   "execution_count": null,
   "metadata": {
    "collapsed": false
   },
   "outputs": [],
   "source": [
    "# Will this work?\n",
    "print(min(\"New York\",8))"
   ]
  },
  {
   "cell_type": "code",
   "execution_count": null,
   "metadata": {
    "collapsed": false
   },
   "outputs": [],
   "source": [
    "#The METHOD - A Special Kind of Function\n",
    "test_string = \"Monty Python and the Holy Grail\" # this is a string object\n",
    "print(test_string.replace(\"o\",\"u\")) # the .lower() here is a METHOD - a special kind of function."
   ]
  },
  {
   "cell_type": "code",
   "execution_count": null,
   "metadata": {
    "collapsed": false
   },
   "outputs": [],
   "source": [
    "#METHOD vs FUNCTION - The Difference?\n",
    "print(len(test_string)) # len() is a regular function, NOT A METHOD\n",
    "print(test_string.upper()) # Upper, by contrast, is a method! \n",
    "# Methods are a subset of functions. All methods are functions, but not all functions are methods\n",
    "# The upper() method ONLY WORK on string objects. If you call it on an integer, it won't work"
   ]
  },
  {
   "cell_type": "code",
   "execution_count": null,
   "metadata": {
    "collapsed": false
   },
   "outputs": [],
   "source": [
    "# Lists - a new kind of object\n",
    "# Note the straight brackets! NOT parenthesis!\n",
    "my_first_integer = 892\n",
    "\n",
    "my_first_list = ['Lions', 13, my_first_integer, \"Oh My!\"]\n",
    "print(my_first_list[1:3])\n",
    "\n",
    "\n",
    "\n",
    "\n",
    "\n",
    "\n",
    "\n",
    "\n",
    "\n",
    "\n",
    "\n",
    "\n",
    "\n",
    "\n"
   ]
  },
  {
   "cell_type": "code",
   "execution_count": null,
   "metadata": {
    "collapsed": false
   },
   "outputs": [],
   "source": [
    "my_first_list.append(\"Turtle\",\"This\")\n",
    "print(my_first_list)\n",
    "\n",
    "\n",
    "\n",
    "\n",
    "\n",
    "\n",
    "\n",
    "\n",
    "\n",
    "\n",
    "\n"
   ]
  },
  {
   "cell_type": "code",
   "execution_count": null,
   "metadata": {
    "collapsed": false
   },
   "outputs": [],
   "source": [
    "my_first_list.insert(2,\"SillyBunny\")\n",
    "print(my_first_list)"
   ]
  },
  {
   "cell_type": "code",
   "execution_count": null,
   "metadata": {
    "collapsed": false
   },
   "outputs": [],
   "source": [
    "my_first_list.remove(\"Lions\")\n",
    "print(my_first_list)"
   ]
  },
  {
   "cell_type": "code",
   "execution_count": null,
   "metadata": {
    "collapsed": false
   },
   "outputs": [],
   "source": [
    "# Oh no! A list error!\n",
    "new_list = [\"first\",\"second\",\"third\"]\n",
    "print(new_list[19])"
   ]
  },
  {
   "cell_type": "code",
   "execution_count": null,
   "metadata": {
    "collapsed": false
   },
   "outputs": [],
   "source": [
    "# Python List Slicing\n",
    "\n",
    "my_second_list = [123.55,\"bunny\",\"rabbit\",\"forest\",\"GMU\",\"social science\"]\n",
    "\n",
    "# Remember we talked about list indexes?\n",
    "# We can get chunks of lists very quickly by using their indexes\n",
    "# For example, the 0:4 below means start at index 0 (inclusive) and end at index 4 (exclusive). Get me a new list with\n",
    "# only those indexes inside!\n",
    "# The colon (:) is supremely important to separate the two values!\n",
    "\n",
    "print(my_second_list[0:4]) # If you don't need to store the new \"sublist\" anywhere, you can print it directly\n",
    "my_third_list = my_second_list[1:3] # Otherwise, you can make a new variable and store the sublist in that variable\n",
    "print(my_third_list)"
   ]
  },
  {
   "cell_type": "code",
   "execution_count": null,
   "metadata": {
    "collapsed": false
   },
   "outputs": [],
   "source": [
    "# More List Slicing Examples\n",
    "print(my_second_list[:4]) # The zero isn't technically needed if you want to start from the beginning.\n",
    "print(my_second_list[3:len(my_second_list)]) # You can even have functions inside the brackets.\n",
    "# However, to make it easier, Python implicitly understands that leaving the second part blank \n",
    "# means the same thing as \"until the end\"\n",
    "print(my_second_list[3:]) "
   ]
  },
  {
   "cell_type": "code",
   "execution_count": null,
   "metadata": {
    "collapsed": false
   },
   "outputs": [],
   "source": [
    "# Advanced List Slicing\n",
    "print(my_second_list[-2:]) # Negatives can be used to \"start from the end\"\n",
    "print(my_second_list[:-2]) # Ohh, what will this one print out?\n",
    "# Play around with the numbers to understand them!"
   ]
  },
  {
   "cell_type": "code",
   "execution_count": null,
   "metadata": {
    "collapsed": false
   },
   "outputs": [],
   "source": [
    "# What about slicing Strings?\n",
    "another_string = \"This is yet another string\"\n",
    "print(another_string[:15])"
   ]
  },
  {
   "cell_type": "code",
   "execution_count": null,
   "metadata": {
    "collapsed": false,
    "scrolled": true
   },
   "outputs": [],
   "source": [
    "# Most Important List Methods\n",
    "josh_list = [1,2,3,4,9,6,7,8]\n",
    "print(josh_list) # Regular print statement\n",
    "#print(josh_list[1]) # Print just a single element from the list\n",
    "#print(josh_list.index(\"Beta\"))# Reverse - get the INDEX (1) from the VALUE (\"Beta\")!\n",
    "\n",
    "# Sort the list! Alphabetical\n",
    "josh_list.sort()\n",
    "print(josh_list)\n",
    "\n",
    "# Reverse the list order!\n",
    "josh_list.reverse()\n",
    "print(josh_list)\n",
    "\"\"\n",
    "# Split a string INTO a list\n",
    "the_sentences = \"This is a sentence. This is yet another sentence.\"\n",
    "the_sentence_list = the_sentences.split(\".\")\n",
    "print(the_sentence_list)"
   ]
  },
  {
   "cell_type": "code",
   "execution_count": null,
   "metadata": {
    "collapsed": false
   },
   "outputs": [],
   "source": [
    "# Tuples - Similar in functionliaty to lists, but can't be edited.\n",
    "# Not that important for our purposes, but still something good to know\n",
    "# Note the parenthesis!\n",
    "\n",
    "my_first_tuple = (54,42,12)\n",
    "print(my_first_tuple)\n",
    "\n",
    "# Can I do this next one?\n",
    "my_first_tuple.append(\"Fifty\")\n",
    "print(my_first_tuple)\n",
    "# Nope, because tuples can never be edited! Unlike lists"
   ]
  },
  {
   "cell_type": "code",
   "execution_count": null,
   "metadata": {
    "collapsed": false
   },
   "outputs": [],
   "source": [
    "# Nested Lists - A List of Lists!\n",
    "\n",
    "# Remember I said that any object can go in a list - even other lists!!\n",
    "# Note the TWO square brackets, signifying a list-in-a-list\n",
    "my_nested_list = [[\"elephant\",\"zebra\",\"hippo\",\"tanuki\"],\n",
    "                  [\"George Mason University\",\"SPGIA\",\"PhD Student\"],\n",
    "                  \"Another String\"]\n",
    "# Print out the WHOLE LIST\n",
    "print(my_nested_list)\n",
    "print(my_nested_list[0][2])\n",
    "\n",
    "\n",
    "\n",
    "\n",
    "\n",
    "\n",
    "\n",
    "\n",
    "\n",
    "\n",
    "\n"
   ]
  },
  {
   "cell_type": "code",
   "execution_count": null,
   "metadata": {
    "collapsed": true
   },
   "outputs": [],
   "source": [
    "# Basic Nested List Uses\n",
    "print(my_nested_list[0])\n",
    "# What will THIS one print?\n",
    "print(my_nested_list[1][2])"
   ]
  },
  {
   "cell_type": "code",
   "execution_count": null,
   "metadata": {
    "collapsed": false
   },
   "outputs": [],
   "source": [
    "# FOR LOOP - your best friend in Python\n",
    "# Another type of flow control\n",
    "# The for loop is how we process lists in Python\n",
    "\n",
    "# A new list - my shopping cart\n",
    "my_cart = [\"Bananas\", \"Blueberries\", \"Raspberries\", \"Chips\",\n",
    "           \"Chocolate\", \"Candy\"]\n",
    "\n",
    "# You can also make empty lists to use later\n",
    "my_fruit_cart = []\n",
    "my_chocolate_cart = []\n",
    "my_other_cart = []\n",
    "\n",
    "\n",
    "# This next part is a little tricky to understand at first. Please take your time\n",
    "\n",
    "# Basically, the For loop below runs through a \"loop\" of my_cart\n",
    "# The \"item\" variable below is new - the For loop itself defines it!\n",
    "# That is to say, it tries to run all the indented code within the For loop for EACH item (\"Bananas\",\"Blueberries\", etc) in the list.\n",
    "# When it runs through the first time, item is equal to \"Bananas\".\n",
    "# Then it REPEATS itself and runs through the IF statement again, but for \"Blueberries\" this time\n",
    "# Keeps going to the end of the list.\n",
    "# Experiment! Keep experimenting until you think you understand the For loop\n",
    "\n",
    "for item in my_cart:\n",
    "    print(\"The item is now: \" + item)\n",
    "    if item == \"Bananas\" or item == \"Blueberries\" or item == \"Raspberries\":\n",
    "        my_fruit_cart.append(item)\n",
    "    elif item == \"Chocolate\":\n",
    "        my_chocolate_cart.append(item)\n",
    "    else:\n",
    "        my_other_cart.append(item)\n",
    "\n",
    "# You can't concatenate (merge) STRINGS and LISTS... So first, you have to convert the lists to strings!\n",
    "# To do that, we can use the str() function, which tries to convert whatever object you give it into a string\n",
    "print(\"My Fruit Cart: \" + str(my_fruit_cart))\n",
    "print(\"My Chocolate Cart: \" + str(my_chocolate_cart))\n",
    "print(\"My Other Cart: \" + str(my_other_cart))\n",
    "print(\"My Original Cart: \" + str(my_cart))"
   ]
  },
  {
   "cell_type": "code",
   "execution_count": null,
   "metadata": {
    "collapsed": false
   },
   "outputs": [],
   "source": [
    "# The FOR loop also works on strings - going through character by character\n",
    "\n",
    "the_string = \"Time Of Your Life\"\n",
    "for current_letter in the_string:\n",
    "    print(current_letter)"
   ]
  },
  {
   "cell_type": "code",
   "execution_count": null,
   "metadata": {
    "collapsed": false
   },
   "outputs": [],
   "source": [
    "# What might be a real-world use of a for loop?\n",
    "main_hyperlink = \"http://www.samplewebsite.com/page/\"\n",
    "for index in range(5,20):\n",
    "    current_link = main_hyperlink + str(index)\n",
    "    print(\"The current link is: \" + current_link)\n",
    "    \n",
    "    \n",
    "    \n",
    "    "
   ]
  },
  {
   "cell_type": "code",
   "execution_count": null,
   "metadata": {
    "collapsed": false,
    "scrolled": true
   },
   "outputs": [],
   "source": [
    "# IMPORT Statements - Expand Your Functionality!\n",
    "# OS - Operating System Functions\n",
    "import os\n",
    "\n",
    "# To access the functions in imported packages, you have to start by typing their package name - in this case, os.\n",
    "# This is in contrast with the likes of len(), min(), and max(), which are in Python by default\n",
    "#os.remove(\"C:/file/path/here\") # Delete a file\n",
    "#os.rmdir(\"C:/folder/path/here\") # Delete an EMPTY folder\n",
    "print(os.getcwd()) # getcwd() stands for get Current Working Directory - what Python percieves as its \"default directory\"\n",
    "print(os.listdir(\"C:/Users/joshl/workspace/PythonClass\")) # Remember that you'll have to change this file path!"
   ]
  },
  {
   "cell_type": "code",
   "execution_count": null,
   "metadata": {
    "collapsed": false
   },
   "outputs": [],
   "source": [
    "# The While Loop - To Infinity, and Beyond!\n",
    "# While loops are like FOR loops in many respects\n",
    "# However, they run FOREVER, on repeat, if you don't tell them when to stop! \n",
    "# FOR loops only run until the list that they're looping through ends\n",
    "# Remember boolean values? Here we get to use them\n",
    "keep_going = True\n",
    "while keep_going == True:\n",
    "    print(\"Alpha\")\n",
    "    print(\"Beta\")\n",
    "    # I want it to stop! So I set keep_going to FALSE\n",
    "    keep_going = False\n",
    "    # However, the while loop will finish its current loop before stopping (thus it will still print Gamma)\n",
    "    print(\"Gamma\")\n",
    "print(\"I'm AFTER the while loop finishes!\")"
   ]
  },
  {
   "cell_type": "code",
   "execution_count": null,
   "metadata": {
    "collapsed": false
   },
   "outputs": [],
   "source": [
    "# The SAME While Loop - But With Break!!\n",
    "keep_going = True\n",
    "while keep_going == True:\n",
    "    print(\"Alpha\")\n",
    "    print(\"Beta\")\n",
    "    # Break is a special Python keyword - it's more forceful! It will IMMEDIATELY cease the current while loop and continues\n",
    "    # processing past it\n",
    "    # Break can also be used in FOR loops to immediately cease the current FOR loop\n",
    "    break\n",
    "    print(\"Gamma\")\n",
    "print(\"I'm AFTER the while loop finishes!\")"
   ]
  },
  {
   "cell_type": "code",
   "execution_count": null,
   "metadata": {
    "collapsed": false
   },
   "outputs": [],
   "source": [
    "# Dictionary - Cousin of the List\n",
    "# Dictionaries are known as \"key-value pairs\"\n",
    "# They're called dictionaries because they're related to their real-world cousins.\n",
    "# A real-world dictionary will have a key (say, 'bathtub') and a value (however the dictionary defines the word bathtub)\n",
    "# Python dictionaries work the same way\n",
    "\n",
    "# Pay careful attention to the syntax! There are a lot of little things to remember\n",
    "# Note that it uses curly brackets instead of straight brackets.\n",
    "# Also note its use of colons to separate each key-value pair\n",
    "# This is to separate it from lists in Python\n",
    "my_dictionary = {'one': [2938,\"Happy\"], \n",
    "                 'two': 'Green Day', \n",
    "                 'three': 'Antonin Scalia', 'bunny':'A small animal that likes to hop'}\n",
    "\n",
    "# Dictionary VALUES are accessed by their KEY, unlike LISTS which are accessed by their INDEX\n",
    "print(my_dictionary['one'])\n",
    "print(my_dictionary['three'])\n",
    "# Adding new key-value pairs is easy!\n",
    "my_dictionary['another_key'] = \"A value associated with that key\"\n",
    "print(my_dictionary['another_key'])"
   ]
  },
  {
   "cell_type": "code",
   "execution_count": null,
   "metadata": {
    "collapsed": false
   },
   "outputs": [],
   "source": [
    "#In-Class Group Exercise: Password Login\n",
    "the_variable = \"This is a variable\"\n",
    "my_input = input(\"This is a question?\")\n",
    "if the_variable == \"Some Thing over here\":\n",
    "    print(\"Maybe do stuff here too?\")\n",
    "    \n",
    "'''\n",
    "You have been hired by Acme, Inc. They are terrified of \"bad guys\", and need YOU to create a brilliant\n",
    "Python password-protection program to protect their computer system.\n",
    "Can you do it?\n",
    "\n",
    "Core Functionality:\n",
    "(1) Ask the user for a Username and a Password\n",
    "(2) Checks to see if they are \"correct\" (YOU define the correct answer in advance!)\n",
    "(3) Give the user a different message depending on if it is correct or not\n",
    "'''\n",
    "\n",
    "'''\n",
    "Advanced Functionality:\n",
    "(1) If the user guesses wrong (wrong username OR wrong password), \n",
    "keep asking them infinitely until they get it right\n",
    "(Hint: While Loop anyone?)\n",
    "'''"
   ]
  },
  {
   "cell_type": "code",
   "execution_count": null,
   "metadata": {
    "collapsed": false
   },
   "outputs": [],
   "source": [
    "import unicodecsv as csv\n",
    "my_input = open(\"6.2-male_names.txt\",\"r\")\n",
    "my_output = open(\"my_spreadsheet.csv\",\"wb\")\n",
    "my_csv = csv.writer(my_output)\n",
    "my_rows = my_input.readlines()\n",
    "for row in my_rows:\n",
    "    new_row = row.split()\n",
    "    my_csv.writerow(new_row)\n",
    "my_input.close()\n",
    "my_output.close()\n",
    "print(\"Done!\")"
   ]
  }
 ],
 "metadata": {
  "anaconda-cloud": {},
  "kernelspec": {
   "display_name": "Python [default]",
   "language": "python",
   "name": "python3"
  },
  "language_info": {
   "codemirror_mode": {
    "name": "ipython",
    "version": 3
   },
   "file_extension": ".py",
   "mimetype": "text/x-python",
   "name": "python",
   "nbconvert_exporter": "python",
   "pygments_lexer": "ipython3",
   "version": "3.4.5"
  }
 },
 "nbformat": 4,
 "nbformat_minor": 0
}
