{
 "cells": [
  {
   "cell_type": "code",
   "execution_count": null,
   "metadata": {
    "collapsed": false
   },
   "outputs": [],
   "source": [
    "# Repeat from last week - Nested Dictionaries\n",
    "import pprint # pprint is the Pretty Print package - it prints out complex data like nested dictionaries into something readable!\n",
    "\n",
    "# Don't worry! You'll almost never have to craft your own dictionaries from scratch.\n",
    "# This is a sample of data I got from the FAA's database.\n",
    "dca_airport_data = {'IATA': 'DCA', 'ICAO': 'KDCA', 'city': 'Washington', 'delay': 'false', 'name': 'Ronald Reagan Washington National',\n",
    " 'state': 'District of Columbia', 'status': {'avgDelay': '','closureBegin': '','closureEnd': '',\n",
    "'endTime': '','maxDelay': '','minDelay': '','reason': 'No known delays for this airport.','trend': '',\n",
    "'type': ''},'weather': {'meta': {'credit': \"NOAA's National Weather Service\",'updated': '8:52 PM Local','url': 'http://weather.gov/'},\n",
    "'temp': '77.0 F (25.0 C)','visibility': 10.0,'weather': 'Mostly Cloudy','wind': 'North at 5.8mph'}}\n",
    "\n",
    "print(\"Here is the regular print nested dictionary:\\n\")\n",
    "print(dca_airport_data) # Normal print looks like a total mess!\n",
    "\n",
    "print(\"\\nHere is the pretty print nested dictionary:\\n\")\n",
    "pprint.pprint(dca_airport_data) # Pretty Print does a much better job!"
   ]
  },
  {
   "cell_type": "code",
   "execution_count": null,
   "metadata": {
    "collapsed": false
   },
   "outputs": [],
   "source": [
    "print(dca_airport_data['weather']['temp'])"
   ]
  },
  {
   "cell_type": "code",
   "execution_count": null,
   "metadata": {
    "collapsed": false
   },
   "outputs": [],
   "source": [
    "## List Comprehensions - One-Line For Loops - OPTIONAL PART\n",
    "# Before we get into cool stuff like webpages, we have to learn one more semi-boring programming concept\n",
    "# The List Comprehension is a special way of making a list from a for loop with super-little code\n",
    "# They're not REQUIRED to know, but they can be really useful to make your code shorter and more readable\n",
    "# I've seen powerful list comprehensions replace as many as 10 lines of code with a single line!\n",
    "# In the long term, these will save you countless hours of work\n",
    "### Example 1: Using list comprehensions with lists\n",
    "\n",
    "generic_list = [\"Alpha\",\"Beta\",\"Gamma\",\"Delta\",\"Epsilon\"]\n",
    "\n",
    "# my_regular_old_list below will be identical to generic_list in every way\n",
    "# Note that element doesn't exist prior to using it here\n",
    "# just like you'd write \"for element in generic_list:\", element is a new variable\n",
    "# Thus, in its absolute most basic form, list comprehensions don't do any kind of change to lists at all\n",
    "my_regular_old_list = [len(element) for element in generic_list]\n",
    "print(my_regular_old_list)"
   ]
  },
  {
   "cell_type": "code",
   "execution_count": null,
   "metadata": {
    "collapsed": false
   },
   "outputs": [],
   "source": [
    "# The second list comprehension is equal to:\n",
    "another_list = []\n",
    "for element in new_list:\n",
    "    if(element != \"Beta\"):\n",
    "        another_list.append(element)\n",
    "print(another_list)\n",
    "# 5 lines of code in 2 lines. And this is a very basic usage."
   ]
  },
  {
   "cell_type": "code",
   "execution_count": null,
   "metadata": {
    "collapsed": false
   },
   "outputs": [],
   "source": [
    "## Turn a string into a list of letters\n",
    "print([letter/100 for letter in \"Hello, World!\"])"
   ]
  },
  {
   "cell_type": "code",
   "execution_count": null,
   "metadata": {
    "collapsed": false
   },
   "outputs": [],
   "source": [
    "## One of the most powerful features of list comprehensions is to modify every element of a list a certain way\n",
    "## Add an exclamation point to every letter (and obviously cut the string up into a list of letter-! pairs)\n",
    "print([letter + \"!\" for letter in \"Hello, World!\"])"
   ]
  },
  {
   "cell_type": "code",
   "execution_count": null,
   "metadata": {
    "collapsed": false
   },
   "outputs": [],
   "source": [
    "# A fancy technique used alongside list comprehensions on strings is the string object's .join() method\n",
    "# .join combines a list of strings together into a single string.\n",
    "# If we modify the previous list comprehension...\n",
    "# Since join is a method, you have to actually call it on a string. In this case, I called it on string that\n",
    "# includes just a single space. What this means is that in-between every letter-! pair, there will be a space\n",
    "print(\" \".join([letter+\"!\" for letter in \"Hello, World!\"]))\n",
    "\n",
    "# If we do the same exact thing without a space in the string (i.e. an emptry string), what will it print?\n",
    "print(\"\".join([letter+\"!\" for letter in \"Hello, World!\"]))"
   ]
  },
  {
   "cell_type": "code",
   "execution_count": null,
   "metadata": {
    "collapsed": false
   },
   "outputs": [],
   "source": [
    "## A multiplication table for the 9's\n",
    "print([9*num for num in range(0,13)])\n"
   ]
  },
  {
   "cell_type": "code",
   "execution_count": null,
   "metadata": {
    "collapsed": false
   },
   "outputs": [],
   "source": [
    "## Make a list of letters in a string if they're not 'o'\")\n",
    "\n",
    "# If you're using ONLY IF, it goes at the very end!\n",
    "print([letter for letter in \"Hello, World!\" if letter != 'o'])\n",
    "\n",
    "# In a rarity, Python has a little awkward syntax here - if you are using IF AND ELSE, you have to have it BEFORE\n",
    "# the FOR statement. It looks awkward, but oh well.\n",
    "print([letter if letter != 'o' else \"?\" for letter in \"Hello, World!\"])"
   ]
  },
  {
   "cell_type": "code",
   "execution_count": null,
   "metadata": {
    "collapsed": false
   },
   "outputs": [],
   "source": [
    "## OPTIONAL PART END\n",
    "# OK, OK, I get it! Enough list comprehension stuff, how do I suck up websites?\n",
    "# The skillset we are going to focus on from now on is called \"web scraping\"\n",
    "# The general rule of thumb is that anything you can do online via clicking a mouse and typing in letters\n",
    "# on your keyboard, you can do super-fast and repetitively with Python.\n",
    "\n",
    "# Basic website data-grabbing\n",
    "import requests\n",
    "\n",
    "# The requests library is the most important for grabbing website data. Just call the .get() function in the requests\n",
    "# library and enter the hyperlink as the parameter. It returns a Response object, which has a number of methods which\n",
    "# give you access to all the critical information you'd want from a website\n",
    "my_response_object = requests.get(\"http://mason.gmu.edu/~jlee17/python_workshop_files/example_data/index-very-simple.html\")\n",
    "\n",
    "# Let's print out what kind of object we're getting:\n",
    "print(\"The type of the object is: \" + str(type(my_response_object)))\n",
    "\n",
    "# Two new concepts below: assert and status_code. Notice that status_code doesn't have () at the end! All this means is\n",
    "# that rather than status_code being a method, it's just an attribute (i.e. a variable stored inside an object)\n",
    "# As for what a status code is, all HTTP requests (that is, anytime you go to a webpage), the webpage sends you back\n",
    "# a numeric status code. It is uniform across the internet! A status code of 200 means OK. Any other number\n",
    "# (and there are dozens of other status codes) means that there's some sort of problem.\n",
    "# You've probably seen them before in your web browsing: 404 Not Found, 500 Internal Server Error, and\n",
    "# 403 Authorized Access Only are three of the most common ones.\n",
    "\n",
    "# The assert statement is basically an error-checking capability of Python. You give assert statements conditions that\n",
    "# are either True or False. If the assert statement is false, it will automatically throw up an Exception (i.e. an error)\n",
    "# and stop further processing.\n",
    "# Imagine you have a list of 50 websites that you're downloading. You certainly might want to know if one of them didn't\n",
    "# come back properly and stop further processing. Try changing the == to != to see what happens when the assert statement\n",
    "# fails\n",
    "if (my_response_object.status_code != 200):\n",
    "    print(\"Oh no, something went wrong!\")\n",
    "\n",
    "# Finally, there are two other attributes stored inside the Response object that are particularly important: Text and Content\n",
    "# The difference between them is similar to the difference between \"w\" mode and \"wb\" mode when reading/writing files\n",
    "# .text stores the actual text, whereas .content stores that same information in raw computer code (bytes).\n",
    "# Because the website I went to is a regular old website, it's just made up of text. Thus, I want the .text attribute\n",
    "# However, if you were doing requests.get() on a PDF file (see below), you'd want the .content attribute\n",
    "\n",
    "print(my_response_object.text)\n",
    "my_text = my_response_object.text\n",
    "# To prove to yourself that the text is the literal real deal, copy-paste the hyperlink above into your browser. \n",
    "# When you get there, right click and there should be an option that looks like \"View Source\". \n",
    "# Click it, and you will see a new page identical to what is printed below.\n",
    "\n",
    "# BUT WAIT! How do we extract the critical stuff we want FROM the text? Don't worry, that comes next week :)"
   ]
  },
  {
   "cell_type": "code",
   "execution_count": null,
   "metadata": {
    "collapsed": false
   },
   "outputs": [],
   "source": [
    "# Downloading a PDF (or really any file)\n",
    "# As I said, it's really easy to download a PDF file with Python\n",
    "import requests\n",
    "\n",
    "# Get the data, which Python interprets as a RESPONSE object, from the internet and put it into a variable.\n",
    "# You can see for yourself it's a regular old PDF file, copy paste it into your browser!\n",
    "response = requests.get(\"http://ku.ac.bd/wp-content/uploads/2016/05/pdf-sample.pdf\")\n",
    "\n",
    "# Make sure it got here OK and produce a Big Fat Error if it didn't\n",
    "assert response.status_code == 200\n",
    "\n",
    "# Open up a new file and prepare for download. Note the \"wb\" instead of \"w\" - this means Write in Byte mode.\n",
    "# Without the \"b\", it is in text-writing mode, which will refuse to write BYTES\n",
    "file = open(\"my_downloaded_file.pdf\", \"wb\")\n",
    "\n",
    "# Finally, use the file's write() method to write the response's content attribute.\n",
    "# NOTE: Content vs. text!! Text is for regular webpages. Content is for non-text files\n",
    "file.write(response.content)\n",
    "\n",
    "# Close the file\n",
    "file.close()\n",
    "# Tell the user it's done\n",
    "print(\"Completed\")"
   ]
  },
  {
   "cell_type": "code",
   "execution_count": null,
   "metadata": {
    "collapsed": false
   },
   "outputs": [],
   "source": [
    "my_list = [\"MIA\",\"DCA\",\"BWI\",\"IAD\",\"RSW\"]\n",
    "my_airport_dictionaries = []\n",
    "import pprint\n",
    "\n",
    "for my_element in my_list:\n",
    "    url = 'http://services.faa.gov/airport/status/' + my_element + '?format=application/json'\n",
    "    response = requests.get(url)\n",
    "    assert response.status_code == 200\n",
    "    dict_file = response.json()\n",
    "    my_airport_dictionaries.append(dict_file)\n",
    "    pprint.pprint(dict_file)"
   ]
  },
  {
   "cell_type": "code",
   "execution_count": null,
   "metadata": {
    "collapsed": false
   },
   "outputs": [],
   "source": [
    "# That nested dictionary I keep showing you... How did I get it in the first place?\n",
    "# By accessing the FAA's Database with Python!\n",
    "import requests\n",
    "import pprint\n",
    "# The Big Word: API - Application Programming Interface\n",
    "# All API means is \"we have configured our data so that you can access it super-easily with a programming language\"\n",
    "\n",
    "# Look below: you start out with a normal URL, but look what's at the end! \n",
    "# A weird little question mark and stuff is after it\n",
    "# This means you're sending a variable TO the website. In this case, we're sending a format variable\n",
    "# and it's equal to application/json. Note that for sending variables inside URLs, you do NOT use quotes!\n",
    "# You can find the documention (i.e. How I figured out that 'format' was the variable I needed to set)\n",
    "# on the FAA's official API website.\n",
    "url = 'http://services.faa.gov/airport/status/BWI?format=application/json'\n",
    "# Lets do requests.get on it!\n",
    "response = requests.get(url)\n",
    "\n",
    "# Here is the critical line! Oftentimes APIs will send you data in a special web format called JSON.\n",
    "# JSONs are cousins of Python dictionaries, and Python can easily convert them for you out of the Response object\n",
    "dict_file = response.json()\n",
    "\n",
    "# Let's print it!\n",
    "pprint.pprint(dict_file)"
   ]
  },
  {
   "cell_type": "code",
   "execution_count": null,
   "metadata": {
    "collapsed": false
   },
   "outputs": [],
   "source": [
    "# There is one improvement we can make, however - it is possible to require multiple variables sometimes.\n",
    "# And while you can add multiple variables with the & sign (That is, www.somewebsite.com/stuff?var_one=blah&var2=derp) \n",
    "# it's really annoying to write it that way. Imagine if you had to set 8 variables???\n",
    "# Thankfully, we have the params parameter to the rescue!\n",
    "# Rather than stick the variables on the end, you just write out the core website\n",
    "# (that is, everything BEFORE the \"?\"). All the variables, you put into a dictionary and attach it to the GET function\n",
    "# Let's see how this works\n",
    "\n",
    "import requests\n",
    "import pprint\n",
    "\n",
    "# Configure basic URL\n",
    "url = 'http://services.faa.gov/airport/status/MIA'\n",
    "\n",
    "# Make new dictionary\n",
    "payload = {}\n",
    "# Set dictionary key format (before the \"=\") to dictionary value application/json (after the \"=\")\n",
    "# Rinse and repeat this as necessary\n",
    "payload['format'] = 'application/json'\n",
    "\n",
    "# Finally, just write a requests.get with the params=your_dictionary argument at the end\n",
    "response = requests.get(url, params = payload)\n",
    "dict_file = response.json()\n",
    "pprint.pprint(dict_file)"
   ]
  },
  {
   "cell_type": "code",
   "execution_count": null,
   "metadata": {
    "collapsed": false
   },
   "outputs": [],
   "source": [
    "# Sadly, government isn't always super-competant, and the JSONs can be hellishly complex to understand at times\n",
    "# Try running this cell and prepare to scream\n",
    "\n",
    "import requests\n",
    "import pprint\n",
    "\n",
    "url = 'https://data.cdc.gov/api/views/rqg5-mkef/rows.json'\n",
    "payload = {}\n",
    "payload['accessType'] = \"DOWNLOAD\"\n",
    "\n",
    "response = requests.get(url, params=payload)\n",
    "# Note that writing out 'https://data.cdc.gov/api/views/rqg5-mkef/rows.json?accessType=DOWNLOAD' would also work\n",
    "# But using payload is usually easier to read and modify\n",
    "dict_file = response.json()\n",
    "pprint.pprint(dict_file)"
   ]
  },
  {
   "cell_type": "code",
   "execution_count": null,
   "metadata": {
    "collapsed": false
   },
   "outputs": [],
   "source": [
    "import unicodecsv as csv\n",
    "import pprint\n",
    "columns = dict_file['meta']['view']['columns']\n",
    "#pprint.pprint(columns)\n",
    "my_columns = [element['fieldName'] for element in columns]\n",
    "print(my_columns)"
   ]
  },
  {
   "cell_type": "code",
   "execution_count": null,
   "metadata": {
    "collapsed": false
   },
   "outputs": [],
   "source": [
    "len(dict_file['data'][0])"
   ]
  },
  {
   "cell_type": "code",
   "execution_count": null,
   "metadata": {
    "collapsed": false
   },
   "outputs": [],
   "source": [
    "# Nevertheless, with sufficient effort, you can still parse your way through it...\n",
    "# I didn't document this section on purpose, try to understand what I'm doing?\n",
    "import unicodecsv as csv\n",
    "\n",
    "columns = dict_file['meta']['view']['columns']\n",
    "headers = [element['fieldName'] for element in columns]\n",
    "print(headers)\n",
    "csv_list = []\n",
    "csv_list.append(headers)\n",
    "\n",
    "for row in dict_file['data']:\n",
    "    csv_list.append(row)\n",
    "\n",
    "current_file = open(\"newcsv.csv\",\"wb\")\n",
    "csv_file = csv.writer(current_file)\n",
    "\n",
    "for row in csv_list:\n",
    "    csv_file.writerow(row)\n",
    "current_file.close()\n",
    "print(\"Done!\")"
   ]
  },
  {
   "cell_type": "code",
   "execution_count": null,
   "metadata": {
    "collapsed": false
   },
   "outputs": [],
   "source": [
    "# The geocoder library is really quite useful! It's an example of a SOAP API, which we'll discuss in the workshop\n",
    "import geocoder\n",
    "g = geocoder.google('Mountain View, CA')\n",
    "print(g.latlng)\n",
    "g = geocoder.reverse(g.latlng)\n",
    "print(g)"
   ]
  },
  {
   "cell_type": "code",
   "execution_count": null,
   "metadata": {
    "collapsed": false
   },
   "outputs": [],
   "source": [
    "import requests\n",
    "import pprint\n",
    "\n",
    "base_url = \"https://api.nytimes.com/svc/search/v2/articlesearch.json\"\n",
    "my_p = {}\n",
    "my_p['q'] = 'Bill Clinton\\'s Son'\n",
    "my_p['api-key'] = '3e1c23485f254bd2a5fb02796ce16d42'\n",
    "response = requests.get(base_url,params=my_p)\n",
    "assert response.status_code == 200\n",
    "dictionary = response.json()\n",
    "pprint.pprint(dictionary)"
   ]
  },
  {
   "cell_type": "code",
   "execution_count": null,
   "metadata": {
    "collapsed": false
   },
   "outputs": [],
   "source": [
    "# Get the FAA data, flatten it, and then write it out to a file\n",
    "# Combining File Writing PLUS grabbing internet data PLUS basic database access\n",
    "\n",
    "import unicodecsv as csv\n",
    "import requests\n",
    "import pprint\n",
    "\n",
    "import flatdict\n",
    "# The Big Word: API - Application Programming Interface\n",
    "\n",
    "url = 'http://services.faa.gov/airport/status/MIA'\n",
    "\n",
    "# Configure file name and payload\n",
    "payload = {}\n",
    "payload['format'] = 'application/json'\n",
    "file_name = 'FAA_Data.csv'\n",
    "\n",
    "# Send out a GET request to the server, making sure to set the params parameter (if applicable)\n",
    "resp = requests.get(url, params=payload)\n",
    "assert resp.status_code == 200\n",
    "\n",
    "# Convert the response into a JSON object - represented in Python as a nested dictionary\n",
    "# JSON is a standard option for recieving complex, nested data in Python. However, it only works on prpoperly structured data!\n",
    "json_object = resp.json()\n",
    "# We can print either the whole thing...\n",
    "pprint.pprint(json_object)\n",
    "\n",
    "# Before we write it, flatdict is a really useful library to download. We use it to flatten our dictionary!\n",
    "flat_json = flatdict.FlatDict(json_object)\n",
    "\n",
    "# Define the header row and the value row. We're only gonna have two rows, since we're only looking at one airport\n",
    "data_key_row = flat_json.keys()\n",
    "data_value_row = flat_json.values()\n",
    "\n",
    "# Finally, write our information to a CSV file\n",
    "opened_file = open(file_name,'wb')\n",
    "my_csv_file = csv.writer(opened_file)\n",
    "my_csv_file.writerow(data_key_row)\n",
    "my_csv_file.writerow(data_value_row)\n",
    "opened_file.close()\n",
    "print(\"I am complete!\")"
   ]
  },
  {
   "cell_type": "code",
   "execution_count": null,
   "metadata": {
    "collapsed": false
   },
   "outputs": [],
   "source": [
    "# NEW ENTRY - Air Quality API. Let's practice with multiple payload variables\n",
    "# Check out https://docs.openaq.org/\n",
    "import requests\n",
    "import pprint\n",
    "\n",
    "my_payload = {}\n",
    "my_payload['country'] = 'US'\n",
    "my_payload['limit'] = 100\n",
    "my_payload['page'] = 7\n",
    "response = requests.get(\"https://api.openaq.org/v1/cities\", params=my_payload)\n",
    "assert response.status_code == 200\n",
    "my_dict = response.json()\n",
    "pprint.pprint(my_dict)"
   ]
  },
  {
   "cell_type": "code",
   "execution_count": null,
   "metadata": {
    "collapsed": false
   },
   "outputs": [],
   "source": [
    "# Now, lets check out DC area air quality!\n",
    "\n",
    "my_payload = {}\n",
    "my_payload['city'] = 'Washington-Arlington-Alexandria'\n",
    "response = requests.get(\"https://api.openaq.org/v1/latest\", params=my_payload)\n",
    "assert response.status_code == 200\n",
    "my_dict = response.json()\n",
    "pprint.pprint(my_dict)"
   ]
  },
  {
   "cell_type": "code",
   "execution_count": null,
   "metadata": {
    "collapsed": false
   },
   "outputs": [],
   "source": [
    "# USEFUL CONCEPT: Custom Sorting\n",
    "\n",
    "# We should remember Python's basic sorting capabilities from earlier\n",
    "my_list = [\"ABC\",\"7\",\"ZBV\",\"TElephone\",\"1BVX\"]\n",
    "my_list.sort()\n",
    "print(my_list)"
   ]
  },
  {
   "cell_type": "code",
   "execution_count": null,
   "metadata": {
    "collapsed": false
   },
   "outputs": [],
   "source": [
    "# But now, let's talk about custom sorting\n",
    "# Excel can do somewhat complicated sorting, but for truly intricate sorting, nothing beats a programming language\n",
    "# There are two ways of custom sorting in Python - What I will \"unofficially\" refer to as \n",
    "# \"Sort by Return\" and \"Sort by Comparison\"\n",
    "# First, here is Sort by Return\n",
    "\n",
    "# Get the results value from the dictionary we made in the previous cell\n",
    "results = my_dict['results']\n",
    "\n",
    "# Cretae a function with a single input argument. This argument will refer to a given element in the list you're sorting\n",
    "def custom_sorting_function(element):\n",
    "    return element['count']\n",
    "\n",
    "# Finally, the magic - the sort() method has an optional parameter key, which lets you override its default sorting\n",
    "# capabilities.\n",
    "# However, this wll appear strange: You DON'T actually include the () at the end of the function!\n",
    "# This is because we're not actually *calling* custom_sorting_function() ourselves. Rather,\n",
    "# we're telling Python \"please temporarily overwrite YOUR method of sorting with MY CUSTOM ONE\" for this case only.\n",
    "results.sort(key=custom_sorting_function)\n",
    "\n",
    "# Now let's print what we've done\n",
    "pprint.pprint(results)"
   ]
  },
  {
   "cell_type": "code",
   "execution_count": null,
   "metadata": {
    "collapsed": false
   },
   "outputs": [],
   "source": [
    "# Functools is a useful little library which covers \"functions that act on or return other functions\"\n",
    "# To broadly oversimplify, we're using it to explain to Python that \"when I give you a function to use\n",
    "# with the key parameter, I don't want to you to the standard 'Sort by Return', but instead I want you to\n",
    "# do a 'Sort by Comparison'\"\n",
    "import functools\n",
    "\n",
    "# Note that since sort() is an inplace method, we actually need to get our raw unsorted results again from the dictionary!\n",
    "results = my_dict['results']\n",
    "\n",
    "# This time, our function looks quite different! It takes in two parameters - any sorting algorithm will be a multitude\n",
    "# of one-to-one comparisons. In this function, we're explaining to Python how it should determine which value is \"greater\"\n",
    "# Thus, in this function we need to create a generalizable rule such that no matter which element in the list is 'a' and\n",
    "# which element is 'b', it will also return the proper value. \n",
    "# - If it returns -1, it means that the 'a' value is smaller\n",
    "# - If it returns 1, it means that the 'a' value is greater\n",
    "# - If it returns 0, it means that the values are considered equal to one another\n",
    "def comparator_function(a,b):\n",
    "    if a['count'] < b['count']:\n",
    "        return -1\n",
    "    elif a['count'] > b['count']:\n",
    "        return 1\n",
    "    else:\n",
    "        return 0\n",
    "# Finally, remember what I noted above about functools - we're using the cmp_to_key function to essentially tell Python\n",
    "# that we're using the 'Sort by Comparison\" method not the 'Sort by Return' method we used above'\n",
    "results.sort(key=functools.cmp_to_key(comparator_function))\n",
    "\n",
    "# And, let's print!\n",
    "pprint.pprint(results)"
   ]
  },
  {
   "cell_type": "code",
   "execution_count": null,
   "metadata": {
    "collapsed": true
   },
   "outputs": [],
   "source": [
    "\"\"\"\n",
    "In-Class Assignment: YOU figure out the documentation!\n",
    "You have become a scholar studying Pokemon! You need to use the PokeAPI to create a spreadsheet\n",
    "containing critical Poke-information.\n",
    "\n",
    "Core Functionality:\n",
    "(1) Visit the Poke-API's primary documentation page at http://pokeapi.co \n",
    "and study their documentation\n",
    "(2) Construct requests.get() functions to get the information from the \n",
    "FIRST 151 POKEMON (HINT: FOR loop)\n",
    "(3) Inside a spreadsheet, each pokemon should be represented by a row. \n",
    "GOTTA CATCH'EM ALL!!!\n",
    "hyperlink = http://pokeapi.co/api/v2/pokemon/\n",
    "\n",
    "Hint:\n",
    "for number in range(1,152):\n",
    "    current_hyperlink = ...\n",
    "\n",
    "Hint 2:\n",
    "Note that the base stats are inside of a list - \n",
    "A dictionary inside a list inside another dictionary. IE:\n",
    "my_dict['stats'][0]['base_stat']\n",
    "\n",
    "Hint 3:\n",
    "Pokemon's name can be found at:\n",
    "my_dict['name']\n",
    "\n",
    "Hint 4:\n",
    "Don't forget to use pretty print (pprint.pprint) when trying to parse through\n",
    "the nested dictionary JSON. It should make it a little more readable.\n",
    "\n",
    "Concentrate on the \"{\" and the \"[\"!\n",
    "\n",
    "In each row, insert the following information from the response JSON:\n",
    "- Pokemon Name\n",
    "- Pokemon Weight\n",
    "- Pokemon Base Speed Stat\n",
    "- Pokemon Base Defense Stat\n",
    "- Pokemon Base Attack Stat\n",
    "- Pokemon Base HP Stat\n",
    "- Pokemon Type(s) - you only need the first one if there are multiple\n",
    "(4) Write the spreadsheet to a file and close the file.\n",
    "(HINT: You DON'T need to worry about a Pokemon's \"attacks/moves\" - you can skip a LOT in the middle)\n",
    "\n",
    "Advanced Functionality:\n",
    "(1) Before you send them to be outputted, sort the pokemon in PYTHON via their Base Speed Stat - The lower the\n",
    "Base Speed Stat, the higher up in the spreadsheet the Pokemon should be!\n",
    "\"\"\""
   ]
  }
 ],
 "metadata": {
  "anaconda-cloud": {},
  "kernelspec": {
   "display_name": "Python [default]",
   "language": "python",
   "name": "python3"
  },
  "language_info": {
   "codemirror_mode": {
    "name": "ipython",
    "version": 3
   },
   "file_extension": ".py",
   "mimetype": "text/x-python",
   "name": "python",
   "nbconvert_exporter": "python",
   "pygments_lexer": "ipython3",
   "version": "3.4.5"
  }
 },
 "nbformat": 4,
 "nbformat_minor": 0
}
