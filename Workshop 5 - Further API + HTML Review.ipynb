{
 "cells": [
  {
   "cell_type": "code",
   "execution_count": null,
   "metadata": {
    "collapsed": false
   },
   "outputs": [],
   "source": [
    "# PART ONE: HTML PARSING REVIEW\n",
    "# Lets grab some DoD selected acquisition reports!\n",
    "\n",
    "import requests\n",
    "from bs4 import BeautifulSoup\n",
    "\n",
    "base_link = \"http://www.dod.mil/pubs/foi/Reading_Room/Selected_Acquisition_Reports/\"\n",
    "response = requests.get(base_link)\n",
    "assert response.status_code == 200\n",
    "html_text = response.text\n",
    "soup = BeautifulSoup(html_text,'html.parser')\n",
    "\n",
    "all_a_tags = soup.find_all(\"a\")\n",
    "\n",
    "for a_tag in all_a_tags:\n",
    "    file = open(a_tag.string,\"wb\")\n",
    "    \n",
    "    pdf_response = requests.get(base_link + a_tag['href']).content\n",
    "\n",
    "    file.write(pdf_response)\n",
    "    print(\"Downloaded \" + a_tag.string)\n",
    "    file.close()\n",
    "    \n",
    "print(\"Done!\")"
   ]
  },
  {
   "cell_type": "code",
   "execution_count": null,
   "metadata": {
    "collapsed": false
   },
   "outputs": [],
   "source": [
    "# HTML PARSING from Archives.gov\n",
    "# Example: Foundation of US Intelligence Documents\n",
    "\n",
    "import requests\n",
    "from bs4 import BeautifulSoup\n",
    "import progressbar # If you don't have it yet, you'll need to do \"pip install progressbar\" in command prompt (without quotes)\n",
    "# This is an optional add-on to produce a progress bar for a given for loop\n",
    "bar = progressbar.ProgressBar()\n",
    "\n",
    "base_link = 'https://history.state.gov/historicaldocuments/frus1945-50Intel/d'\n",
    "\n",
    "# Why did I choose 1 to 72?\n",
    "# You just wrap the normal for X in Y statement => for X in bar(Y):\n",
    "# See the results when you run this cell\n",
    "for index in bar(range(1,72)):\n",
    "    \n",
    "    # The following five lines should be familiar to everyone:\n",
    "    hyperlink = base_link + str(index)\n",
    "    response = requests.get(hyperlink)\n",
    "    assert response.status_code == 200\n",
    "    html_text = response.text\n",
    "    soup = BeautifulSoup(html_text,\"html.parser\")\n",
    "    # How is this finding the text I want?\n",
    "    payload = {}\n",
    "    payload['class'] = 'tei-div3'\n",
    "    \n",
    "    main_div_tag = soup.find(\"div\", payload)\n",
    "    core_text = main_div_tag.text\n",
    "    \n",
    "    # Now lets output it - a new variant on making a file\n",
    "    file_name = \"output_text\" + str(index) + \".txt\"\n",
    "    fw = open(file_name,\"w\")\n",
    "    fw.write(core_text)\n",
    "    fw.close()\n",
    "print(\"Done!\")"
   ]
  },
  {
   "cell_type": "code",
   "execution_count": null,
   "metadata": {
    "collapsed": false
   },
   "outputs": [],
   "source": [
    "# PART TWO: API REVIEW\n",
    "# OMDb Data (https://www.omdbapi.com/)\n",
    "\n",
    "import requests\n",
    "import pprint\n",
    "\n",
    "base_link = 'http://www.omdbapi.com/'\n",
    "\n",
    "payload = {}\n",
    "payload['t'] = 'Boondock Saints'\n",
    "payload['type'] = 'movie'\n",
    "\n",
    "response = requests.get(base_link, params = payload)\n",
    "assert response.status_code == 200\n",
    "\n",
    "my_dict = response.json()\n",
    "pprint.pprint(my_dict)"
   ]
  },
  {
   "cell_type": "code",
   "execution_count": null,
   "metadata": {
    "collapsed": false
   },
   "outputs": [],
   "source": [
    "my_dict['Ratings'][1]['Source']"
   ]
  },
  {
   "cell_type": "code",
   "execution_count": null,
   "metadata": {
    "collapsed": false
   },
   "outputs": [],
   "source": [
    "# What if we wanted to make a spreadsheet about the Big Bang Theory?\n",
    "# I want Every Season, Every Episode, with the episode's name and IMDb rating!\n",
    "\n",
    "# Let's do it together!\n",
    "# Remember: There is a parameter 'Season' and a parameter 'Episode'\n",
    "import requests\n",
    "import pprint\n",
    "import unicodecsv as csv\n",
    "\n",
    "my_file = open(\"random_spreadsheet.csv\",\"wb\")\n",
    "my_csv = csv.writer(my_file)\n",
    "\n",
    "base_link = 'http://www.omdbapi.com/'\n",
    "for index in range(1,11):\n",
    "    payload = {}\n",
    "    payload['t'] = 'The Big Bang Theory'\n",
    "    payload['Season'] = index\n",
    "\n",
    "    response = requests.get(base_link, params = payload)\n",
    "    assert response.status_code == 200\n",
    "\n",
    "    my_dict = response.json()\n",
    "    #pprint.pprint(my_dict)\n",
    "\n",
    "    for current_episode in my_dict['Episodes']:\n",
    "        my_csv.writerow([current_episode['Title'],current_episode['imdbRating']])\n",
    "print(\"Done!\")\n",
    "my_file.close()"
   ]
  },
  {
   "cell_type": "code",
   "execution_count": null,
   "metadata": {
    "collapsed": false
   },
   "outputs": [],
   "source": [
    "# PART THREE: SOMETHING NEW - NATURAL LANGUAGE PROCESSING IN PYTHON\n",
    "# First, lets download some nltk add-ons\n",
    "import nltk\n",
    "print(\"Ready!\")\n",
    "nltk.download()\n",
    "# When the new window loads, download ALL. Note that this will take a few hours."
   ]
  },
  {
   "cell_type": "code",
   "execution_count": null,
   "metadata": {
    "collapsed": false
   },
   "outputs": [],
   "source": [
    "# Positive/Negative Sentiment Analysis\n",
    "# Not good at handling more than a sentence or two at a time.\n",
    "from nltk.sentiment.vader import SentimentIntensityAnalyzer\n",
    "from nltk import tokenize\n",
    "\n",
    "sentences = [\"VADER is smart, handsome, and funny.\", # positive sentence example\n",
    "\"VADER is smart, handsome, and funny!\", # punctuation emphasis handled correctly (sentiment intensity adjusted)\n",
    "\"VADER is very smart, handsome, and funny.\",  # booster words handled correctly (sentiment intensity adjusted)\n",
    "\"VADER is VERY SMART, handsome, and FUNNY.\",  # emphasis for ALLCAPS handled\n",
    "\"VADER is VERY SMART, handsome, and FUNNY!!!\",# combination of signals - VADER appropriately adjusts intensity\n",
    "\"VADER is VERY SMART, really handsome, and INCREDIBLY FUNNY!!!\",# booster words & punctuation make this close to ceiling for score\n",
    "\"The book was good.\",         # positive sentence\n",
    "\"The book was kind of good.\", # qualified positive sentence is handled correctly (intensity adjusted)\n",
    "\"The plot was good, but the characters are uncompelling and the dialog is not great.\", # mixed negation sentence\n",
    "\"A really bad, horrible book.\",       # negative sentence with booster words\n",
    "\"At least it isn't a horrible book.\", # negated negative sentence with contraction\n",
    "\":) and :D\",     # emoticons handled\n",
    "\"\",              # an empty string is correctly handled\n",
    "\"Today sux\",     #  negative slang handled\n",
    "\"Today sux!\",    #  negative slang with punctuation emphasis handled\n",
    "\"Today SUX!\",    #  negative slang with capitalization emphasis\n",
    "\"Today kinda sux! But I'll get by, lol\" # mixed sentiment example with slang and constrastive conjunction \"but\"\n",
    "]\n",
    "\n",
    "tricky_sentences = [\n",
    "\"Most automated sentiment analysis tools are shit.\",\n",
    "\"VADER sentiment analysis is the shit.\",\n",
    "\"Sentiment analysis has never been good.\",\n",
    "\"Sentiment analysis with VADER has never been this good.\",\n",
    "\"Warren Beatty has never been so entertaining.\",\n",
    "\"I won't say that the movie is astounding and I wouldn't claim that \\\n",
    "the movie is too banal either.\",\n",
    "\"I like to hate Michael Bay films, but I couldn't fault this one\",\n",
    "\"It's one thing to watch an Uwe Boll film, but another thing entirely \\\n",
    "to pay for it\",\n",
    "\"The movie was too good\",\n",
    "\"This movie was actually neither that funny, nor super witty.\",\n",
    "\"This movie doesn't care about cleverness, wit or any other kind of \\\n",
    "intelligent humor.\",\n",
    "\"Those who find ugly meanings in beautiful things are corrupt without \\\n",
    "being charming.\",\n",
    "\"There are slow and repetitive parts, BUT it has just enough spice to \\\n",
    "keep it interesting.\",\n",
    "\"The script is not fantastic, but the acting is decent and the cinematography \\\n",
    "is EXCELLENT!\",\n",
    "\"Roger Dodger is one of the most compelling variations on this theme.\",\n",
    "\"Roger Dodger is one of the least compelling variations on this theme.\",\n",
    "\"Roger Dodger is at least compelling as a variation on the theme.\",\n",
    "\"they fall in love with the product\",\n",
    "\"but then it breaks\",\n",
    "\"usually around the time the 90 day warranty expires\",\n",
    "\"However, Mr. Carter solemnly argues, his client carried out the kidnapping \\\n",
    "under orders and in the ''least offensive way possible.''\",\n",
    "]\n",
    "\n",
    "sentences.extend(tricky_sentences)\n",
    "\n",
    "sid = SentimentIntensityAnalyzer()\n",
    "for sentence in sentences:\n",
    "    print(sentence)\n",
    "    ss = sid.polarity_scores(sentence)\n",
    "    for k in sorted(ss):\n",
    "        print('{0}: {1}, '.format(k, ss[k]), end='')\n",
    "    print()"
   ]
  },
  {
   "cell_type": "code",
   "execution_count": null,
   "metadata": {
    "collapsed": false
   },
   "outputs": [],
   "source": [
    "# Next, lets get an API Key from Indico.io\n",
    "# Visit their website at indico.io, and make a free account.\n",
    "# When they give you an API key (check out indico.io/dashboard when you have an account)\n",
    "# Replace YOUR-API-KEY with the API key they give you.\n",
    "# Political Sentiment Analysis\n",
    "\n",
    "from indicoio import political, config\n",
    "config.api_key = \"YOUR-API-KEY\"\n",
    "print(political(\"Those who surrender freedom for security will not have, nor do they deserve, either one.\"))\n",
    "print(political(\"War solves no problems. Only peace can achieve the future we all deserve.\"))\n",
    "print(political(\"Fracking is evil, it destroys the environment. We need to utilize solar and wind energy.\"))"
   ]
  },
  {
   "cell_type": "code",
   "execution_count": null,
   "metadata": {
    "collapsed": false
   },
   "outputs": [],
   "source": [
    "# Emotional Sentiment Analysis\n",
    "# Surprisingly accurate!\n",
    "from indicoio import emotion\n",
    "print(emotion(\"The evil Lord Voldemort is going to destroy Hogwarts.\"))\n",
    "print(emotion(\"I can't believe that John Doe won the election... I wasn't expecting it at all!\"))\n",
    "print(emotion(\"I just failed the test, I'm going to rage at the world\"))"
   ]
  },
  {
   "cell_type": "code",
   "execution_count": null,
   "metadata": {
    "collapsed": false
   },
   "outputs": [],
   "source": [
    "# Text Tagging by 110 common writing categories\n",
    "# Sorting text into pre-defined categories, with likelihood of fit probabilities\n",
    "from indicoio import text_tags, keywords\n",
    "print('Text Tags:')\n",
    "print(text_tags(\"Facebook blog posts about Android tech make better journalism than most news outlets.\", top_n=5))"
   ]
  },
  {
   "cell_type": "code",
   "execution_count": null,
   "metadata": {
    "collapsed": false
   },
   "outputs": [],
   "source": [
    "# Keyword determination in text\n",
    "# Figure out the most IMPORTANT words in a given sentence or paragraph\n",
    "print('Keywords:')\n",
    "print(keywords(\"Facebook blog posts about Android tech make better journalism than most news outlets.\", top_n=5))"
   ]
  }
 ],
 "metadata": {
  "anaconda-cloud": {},
  "kernelspec": {
   "display_name": "Python [conda env:py35]",
   "language": "python",
   "name": "conda-env-py35-py"
  },
  "language_info": {
   "codemirror_mode": {
    "name": "ipython",
    "version": 3
   },
   "file_extension": ".py",
   "mimetype": "text/x-python",
   "name": "python",
   "nbconvert_exporter": "python",
   "pygments_lexer": "ipython3",
   "version": "3.5.2"
  }
 },
 "nbformat": 4,
 "nbformat_minor": 1
}
