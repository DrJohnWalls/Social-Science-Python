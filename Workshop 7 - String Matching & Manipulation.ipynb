{
 "cells": [
  {
   "cell_type": "code",
   "execution_count": null,
   "metadata": {
    "collapsed": false
   },
   "outputs": [],
   "source": [
    "# Level 1 Text Parsing is normal string methods - strip(), split(), endswith(), startswith(), etc."
   ]
  },
  {
   "cell_type": "code",
   "execution_count": null,
   "metadata": {
    "collapsed": false
   },
   "outputs": [],
   "source": [
    "# Level 2 Text Parsing - Fuzzy Matching\n",
    "# Yes, they named their package fuzzywuzzy\n",
    "# Yes, Python developers are quirky\n",
    "# It uses a complex bit of math called the Levenshtein distance algorithm to compare strings for similarity\n",
    "# It returns a \"similarity index\" between 0 and 100 - the higher the index, the more similar the compared strings are\n",
    "# You will need to do \"pip install fuzzywuzzy\" the first time.\n",
    "\n",
    "import fuzzywuzzy.fuzz as fuzz\n",
    "import fuzzywuzzy.process as process\n",
    "\n",
    "# Practice modifying the second parameter to see how it impacts the output.\n",
    "\n",
    "print(fuzz.ratio(\"ACME Factory\", \"aaaACME Factoryaaa\"))# Standard comparison\n",
    "\n",
    "print(fuzz.partial_ratio(\"ACME Factory\", \"aaaACaaaME Factory\")) #partial_ratio ignores extra text before or after\n",
    "\n",
    "# Both the token_* functions \"tokenize\" (i.e. split phrases into a list of word strings by spaces)\n",
    "# They also both lowercase all letters, and delete all non-alphanumeric characters\n"
   ]
  },
  {
   "cell_type": "code",
   "execution_count": null,
   "metadata": {
    "collapsed": false
   },
   "outputs": [],
   "source": [
    "# Old functions\n",
    "print(fuzz.ratio('Barack Obama', 'There is a guy named barack H. obama'))\n",
    "print(fuzz.partial_ratio('Barack Obama', 'There is a guy named Barack H. Obama'))"
   ]
  },
  {
   "cell_type": "code",
   "execution_count": null,
   "metadata": {
    "collapsed": false
   },
   "outputs": [],
   "source": [
    "print(\"This one compares each tokenized word and uses a weighing function to calcuate the final similarity index of the overall string.\")\n",
    "print(fuzz.token_sort_ratio('Barack Obama', 'barack H. obama'))"
   ]
  },
  {
   "cell_type": "code",
   "execution_count": null,
   "metadata": {
    "collapsed": false
   },
   "outputs": [],
   "source": [
    "print(\"This one only makes sure all the words are THERE. If there are extra words, it ignores\")\n",
    "print(fuzz.token_set_ratio('Barack Obama', 'There is a guy named bareack H. obama'))"
   ]
  },
  {
   "cell_type": "code",
   "execution_count": null,
   "metadata": {
    "collapsed": true
   },
   "outputs": [],
   "source": [
    "print(\"Both ignore non-alphanumerics! Like the period. Thus the strings are 'identical'\")\n",
    "print(fuzz.token_sort_ratio('Barack H Obama', 'Barack H. Obama'))\n",
    "print(fuzz.token_set_ratio('Barack H Obama', 'Barack H. Obama'))\n"
   ]
  },
  {
   "cell_type": "code",
   "execution_count": null,
   "metadata": {
    "collapsed": false
   },
   "outputs": [],
   "source": [
    "# The other really useful module in fuzzywuzzy is process. Give process a word and a list, and it'll give you the best match\n",
    "# and how good of a match it is. The extractOne function returns a tuple with two elements in it - the word that matched and\n",
    "# its score\n",
    "\n",
    "choices = [\"Bunny\",\"Kitty\",\"Doggy\",\"Supreme Lizard King\"]\n",
    "my_word = \"Kitten\"\n",
    "print(process.extractOne(my_word, choices))"
   ]
  },
  {
   "cell_type": "code",
   "execution_count": null,
   "metadata": {
    "collapsed": false
   },
   "outputs": [],
   "source": [
    "# Level 3 Text Parsing Technique - Regular Expressions (aka Regex or re)\n",
    "# Sometimes, all of Python's string methods AND fuzzy matching are simply not enough\n",
    "# In these extreme cases, our last line of defense (without $20,000 to build a custom neural network) is Regular Expressions\n",
    "# Regex works by creating a special \"matching string\" - this matching string has rules built into it.\n",
    "# Any string that the regex mathing string finds that follows its rules is returned as True.\n",
    "# You can make matching strings of amazing sophistication and complex rules - \n",
    "# For example, matching only valid US phone numbers or only valid http web addresses or valid email addresses is simple\n",
    "\n",
    "# For a cheat sheet and some baiscs on what regex is, check out http://regexone.com/\n",
    "# For Python's official documentation regarding all the different Regex functions, check out:\n",
    "# https://docs.python.org/3.5/library/re.html#re.search\n",
    "\n",
    "import re\n",
    "def check_matches(regex_string,my_list = []):\n",
    "    for element in my_list:\n",
    "        is_valid = re.match(regex_string, element)\n",
    "        if is_valid:\n",
    "            print(\"Email address {0} is valid!\".format(element))\n",
    "        else:\n",
    "            print(\"Email address {0} is NOT valid!\".format(element))\n",
    "\n",
    "# Example One: Email Validity Checker\n",
    "regex_string = \"[a-zA-Z0-9._%+-]+@[a-zA-Z0-9.-]+\\.[a-zA-Z]{2,4}\"\n",
    "my_email_list = [\"not_an_email\",\"am_i_an_email@1.1\",\"i_am_an_email@yahoo.com\",\n",
    "                \"%$#bad_email@gmail.com\",\"another_good_email@aol.qqq\"]\n",
    "check_matches(regex_string,my_email_list)\n",
    "# Now obviously, Python doesn't have a \"list of all possible email providers\", so you can still do made-up emails\n",
    "# However, it will reject any fundamentally misformatted email address."
   ]
  },
  {
   "cell_type": "code",
   "execution_count": null,
   "metadata": {
    "collapsed": false
   },
   "outputs": [],
   "source": [
    "# Example Two: Matching a hyperlink\n",
    "string_2 = \"^(https?:\\/\\/)?([\\da-z\\.-]+)\\.([a-z\\.]{2,6})([\\/\\w \\.-]*)*\\/?$\"\n",
    "my_hyperlink_list = [\"www.samplething.com\",\"https://www.samplething.com\",\"samplething.com\",\"http://samplething.com\",\n",
    "                    \"www.samplething.tv\",\"www.not!!valid.com\",\"htt1p://www.samplething.com\"]\n",
    "check_matches(string_2,my_hyperlink_list)"
   ]
  },
  {
   "cell_type": "code",
   "execution_count": null,
   "metadata": {
    "collapsed": false
   },
   "outputs": [],
   "source": [
    "import nltk\n",
    "nltk.download() # If you haven't yet, download all the nltk packages"
   ]
  },
  {
   "cell_type": "code",
   "execution_count": null,
   "metadata": {
    "collapsed": false
   },
   "outputs": [],
   "source": [
    "# NLTK - The Natural Language ToolKit\n",
    "# Due to a quirk of Jupyter Notebook, you need to import re first. NLTK uses the re library\n",
    "# The \"books\" sub-package contains a number of default texts that you can play with to analyze\n",
    "# Book #4 is a compilation of every presidential inaugural address ever, concatenated into a single string\n",
    "import nltk\n",
    "import nltk.book as books\n",
    "\n",
    "# The name of the current book\n",
    "print(books.text4.name)\n",
    "\n",
    "# Print the context around all instances of the selected word. 75 letters total size, the first 5 matches\n",
    "print(books.text1.concordance(\"monstrous\",75,lines=10))"
   ]
  },
  {
   "cell_type": "code",
   "execution_count": null,
   "metadata": {
    "collapsed": false
   },
   "outputs": [],
   "source": [
    "# Create a dispersion plot - see how the use of various words has changed over time\n",
    "%matplotlib qt\n",
    "books.text4.dispersion_plot([\"citizens\", \"democracy\", \"freedom\", \"duties\", \"America\", \"security\",\"liberty\"])"
   ]
  },
  {
   "cell_type": "code",
   "execution_count": null,
   "metadata": {
    "collapsed": false
   },
   "outputs": [],
   "source": [
    "# See how many different words there are in the text\n",
    "print(len(set(books.text4)))"
   ]
  },
  {
   "cell_type": "code",
   "execution_count": null,
   "metadata": {
    "collapsed": false
   },
   "outputs": [],
   "source": [
    "# Count the instances of the word fidelity\n",
    "print(books.text4.count(\"fidelity\"))\n",
    "\n",
    "# Provide the offset (how many words came before it) for the first use of the word fidelity\n",
    "print(books.text4.index('fidelity'))\n",
    "\n",
    "# Find the 30 most common bigrams (two word pairs)\n",
    "print(books.text4.collocations(30))"
   ]
  },
  {
   "cell_type": "code",
   "execution_count": null,
   "metadata": {
    "collapsed": false
   },
   "outputs": [],
   "source": [
    "# Frequency distributions are great for content analysis\n",
    "import pprint\n",
    "stopwords = nltk.corpus.stopwords.words('english')\n",
    "# Use a List Comprehension to take out all the \"plumbing\" words and all the punctuation. Who cares how many commas there are?\n",
    "fdist1 = nltk.FreqDist(w for w in books.text4 if w.lower() not in stopwords and w.isalpha())\n",
    "# The generic way of doing it is fdist1 = nltk.FreqDist(books.text4), but this does not filter out the \"stopwords\"\n",
    "pprint.pprint(fdist1.most_common(50))"
   ]
  },
  {
   "cell_type": "code",
   "execution_count": null,
   "metadata": {
    "collapsed": false
   },
   "outputs": [],
   "source": [
    "# Plot out the 50 most common words, cumulatively added\n",
    "fdist1.plot(50, cumulative=True)"
   ]
  },
  {
   "cell_type": "code",
   "execution_count": null,
   "metadata": {
    "collapsed": false
   },
   "outputs": [],
   "source": [
    "# Show the instances of the word liberty\n",
    "print(fdist1['liberty'])"
   ]
  },
  {
   "cell_type": "code",
   "execution_count": null,
   "metadata": {
    "collapsed": false
   },
   "outputs": [],
   "source": [
    "nltk.word_tokenize(\"Your String Here\")"
   ]
  },
  {
   "cell_type": "code",
   "execution_count": null,
   "metadata": {
    "collapsed": false
   },
   "outputs": [],
   "source": [
    "# Make your own nltk \"book\"\n",
    "text = nltk.Text(nltk.word_tokenize(\"Your String Here\"))\n",
    "print(text.count(\"Your\"))"
   ]
  },
  {
   "cell_type": "code",
   "execution_count": null,
   "metadata": {
    "collapsed": false
   },
   "outputs": [],
   "source": [
    "# With frequency distribution, we can get not just bigrams, but trigrams...\n",
    "# This is a very fancy use of a list comprehension\n",
    "fdist_new = nltk.FreqDist(nltk.trigrams(w for w in books.text4 if w.lower() not in stopwords and w.isalpha()))\n",
    "pprint.pprint(fdist_new.most_common(50))"
   ]
  },
  {
   "cell_type": "code",
   "execution_count": null,
   "metadata": {
    "collapsed": false
   },
   "outputs": [],
   "source": [
    "# and n-grams!\n",
    "fdist_new = nltk.FreqDist(nltk.ngrams(books.text4,4))\n",
    "pprint.pprint(fdist_new.most_common(50))"
   ]
  },
  {
   "cell_type": "code",
   "execution_count": null,
   "metadata": {
    "collapsed": false
   },
   "outputs": [],
   "source": [
    "# The power of VADER for Sentiment Analysis\n",
    "\n",
    "from nltk.sentiment.vader import SentimentIntensityAnalyzer\n",
    "from nltk import tokenize\n",
    "\n",
    "sentences = [\"VADER is smart, handsome, and funny.\", # positive sentence example\n",
    "\"VADER is smart, handsome, and funny!\", # punctuation emphasis handled correctly (sentiment intensity adjusted)\n",
    "\"VADER is very smart, handsome, and funny.\",  # booster words handled correctly (sentiment intensity adjusted)\n",
    "\"VADER is VERY SMART, handsome, and FUNNY.\",  # emphasis for ALLCAPS handled\n",
    "\"VADER is VERY SMART, handsome, and FUNNY!!!\",# combination of signals - VADER appropriately adjusts intensity\n",
    "\"VADER is VERY SMART, really handsome, and INCREDIBLY FUNNY!!!\",# booster words & punctuation make this close to ceiling for score\n",
    "\"The book was good.\",         # positive sentence\n",
    "\"The book was kind of good.\", # qualified positive sentence is handled correctly (intensity adjusted)\n",
    "\"The plot was good, but the characters are uncompelling and the dialog is not great.\", # mixed negation sentence\n",
    "\"A really bad, horrible book.\",       # negative sentence with booster words\n",
    "\"At least it isn't a horrible book.\", # negated negative sentence with contraction\n",
    "\":) and :D\",     # emoticons handled\n",
    "\"\",              # an empty string is correctly handled\n",
    "\"Today sux\",     #  negative slang handled\n",
    "\"Today sux!\",    #  negative slang with punctuation emphasis handled\n",
    "\"Today SUX!\",    #  negative slang with capitalization emphasis\n",
    "\"Today kinda sux! But I'll get by, lol\" # mixed sentiment example with slang and constrastive conjunction \"but\"\n",
    "]\n",
    "\n",
    "tricky_sentences = [\n",
    "\"Most automated sentiment analysis tools are shit.\",\n",
    "\"VADER sentiment analysis is the shit.\",\n",
    "\"Sentiment analysis has never been good.\",\n",
    "\"Sentiment analysis with VADER has never been this good.\",\n",
    "\"Warren Beatty has never been so entertaining.\",\n",
    "\"I won't say that the movie is astounding and I wouldn't claim that \\\n",
    "the movie is too banal either.\",\n",
    "\"I like to hate Michael Bay films, but I couldn't fault this one\",\n",
    "\"It's one thing to watch an Uwe Boll film, but another thing entirely \\\n",
    "to pay for it\",\n",
    "\"The movie was too good\",\n",
    "\"This movie was actually neither that funny, nor super witty.\",\n",
    "\"This movie doesn't care about cleverness, wit or any other kind of \\\n",
    "intelligent humor.\",\n",
    "\"Those who find ugly meanings in beautiful things are corrupt without \\\n",
    "being charming.\",\n",
    "\"There are slow and repetitive parts, BUT it has just enough spice to \\\n",
    "keep it interesting.\",\n",
    "\"The script is not fantastic, but the acting is decent and the cinematography \\\n",
    "is EXCELLENT!\",\n",
    "\"Roger Dodger is one of the most compelling variations on this theme.\",\n",
    "\"Roger Dodger is one of the least compelling variations on this theme.\",\n",
    "\"Roger Dodger is at least compelling as a variation on the theme.\",\n",
    "\"they fall in love with the product\",\n",
    "\"but then it breaks\",\n",
    "\"usually around the time the 90 day warranty expires\",\n",
    "\"the twin towers collapsed today\",\n",
    "\"However, Mr. Carter solemnly argues, his client carried out the kidnapping \\\n",
    "under orders and in the ''least offensive way possible.''\",\n",
    "]\n",
    "\n",
    "sentences.extend(tricky_sentences)\n",
    "\n",
    "sid = SentimentIntensityAnalyzer()\n",
    "for sentence in sentences:\n",
    "    print(sentence)\n",
    "    ss = sid.polarity_scores(sentence)\n",
    "    for k in sorted(ss):\n",
    "        print('{0}: {1}, '.format(k, ss[k]), end='')\n",
    "    print()"
   ]
  }
 ],
 "metadata": {
  "anaconda-cloud": {},
  "kernelspec": {
   "display_name": "Python [default]",
   "language": "python",
   "name": "python3"
  },
  "language_info": {
   "codemirror_mode": {
    "name": "ipython",
    "version": 3
   },
   "file_extension": ".py",
   "mimetype": "text/x-python",
   "name": "python",
   "nbconvert_exporter": "python",
   "pygments_lexer": "ipython3",
   "version": "3.4.5"
  }
 },
 "nbformat": 4,
 "nbformat_minor": 1
}
